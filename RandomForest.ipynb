{
  "nbformat": 4,
  "nbformat_minor": 0,
  "metadata": {
    "colab": {
      "provenance": [],
      "authorship_tag": "ABX9TyOAsM0ZY672/l7FSST8tWHF"
    },
    "kernelspec": {
      "name": "python3",
      "display_name": "Python 3"
    },
    "language_info": {
      "name": "python"
    }
  },
  "cells": [
    {
      "cell_type": "code",
      "execution_count": null,
      "metadata": {
        "colab": {
          "base_uri": "https://localhost:8080/"
        },
        "id": "24WbnP0wK1iY",
        "outputId": "bd3c8e95-4fb1-43b6-99e5-c98323be9807"
      },
      "outputs": [
        {
          "output_type": "stream",
          "name": "stdout",
          "text": [
            "dict_keys(['data', 'target', 'frame', 'target_names', 'DESCR', 'feature_names', 'filename', 'data_module'])\n"
          ]
        }
      ],
      "source": [
        "# Load Datas\n",
        "\n",
        "from sklearn.datasets import load_breast_cancer\n",
        "\n",
        "cancer = load_breast_cancer()\n",
        "print(cancer.keys())"
      ]
    },
    {
      "cell_type": "code",
      "source": [
        "# Data Preprocessing\n",
        "\n",
        "from sklearn.model_selection import train_test_split\n",
        "\n",
        "train_input, test_input, train_target, test_target = train_test_split(cancer.data, cancer.target, test_size=0.2, random_state=42 )"
      ],
      "metadata": {
        "id": "vkLlvaSQLE0k"
      },
      "execution_count": null,
      "outputs": []
    },
    {
      "cell_type": "code",
      "source": [
        "\n"
      ],
      "metadata": {
        "id": "SufD5jETLc4H"
      },
      "execution_count": null,
      "outputs": []
    },
    {
      "cell_type": "code",
      "source": [
        "# 최적의 max_depth\n",
        "\n",
        "from sklearn.model_selection import KFold\n",
        "from sklearn.ensemble import RandomForestClassifier\n",
        "import pandas as pd\n",
        "\n",
        "cv = KFold(n_splits=5)\n",
        "accuracies = list()\n",
        "max_attributes = test_input.shape[1]\n",
        "depth_range = range(1, max_attributes)\n",
        "\n",
        "for depth in depth_range:\n",
        "    fold_accuracy = []\n",
        "    rand_clf = RandomForestClassifier(max_depth = depth)\n",
        "\n",
        "    model = rand_clf.fit(train_input, train_target)\n",
        "    valid_acc = model.score(test_input, test_target)\n",
        "    fold_accuracy.append(valid_acc)\n",
        "\n",
        "    avg = sum(fold_accuracy)/len(fold_accuracy)\n",
        "    accuracies.append(avg)\n",
        "\n",
        "df = pd.DataFrame({\"Max Depth\": depth_range, \"Average Accuracy\": accuracies})\n",
        "df = df[[\"Max Depth\", \"Average Accuracy\"]]\n",
        "print(df.to_string(index=False))\n",
        "\n",
        "# 이게 맞는지 모르겠지만 depth=12부터 정확도가 조금 떨어지므로 max_depth를 11로 설정할 것!"
      ],
      "metadata": {
        "colab": {
          "base_uri": "https://localhost:8080/"
        },
        "id": "XObl6F8eLh64",
        "outputId": "1cd8e425-4504-4ab4-b48d-42ba24e6c7ee"
      },
      "execution_count": null,
      "outputs": [
        {
          "output_type": "stream",
          "name": "stdout",
          "text": [
            " Max Depth  Average Accuracy\n",
            "         1          0.947368\n",
            "         2          0.964912\n",
            "         3          0.964912\n",
            "         4          0.964912\n",
            "         5          0.964912\n",
            "         6          0.964912\n",
            "         7          0.964912\n",
            "         8          0.964912\n",
            "         9          0.964912\n",
            "        10          0.964912\n",
            "        11          0.964912\n",
            "        12          0.956140\n",
            "        13          0.964912\n",
            "        14          0.964912\n",
            "        15          0.964912\n",
            "        16          0.964912\n",
            "        17          0.964912\n",
            "        18          0.964912\n",
            "        19          0.964912\n",
            "        20          0.964912\n",
            "        21          0.964912\n",
            "        22          0.964912\n",
            "        23          0.964912\n",
            "        24          0.956140\n",
            "        25          0.964912\n",
            "        26          0.964912\n",
            "        27          0.964912\n",
            "        28          0.964912\n",
            "        29          0.956140\n"
          ]
        }
      ]
    },
    {
      "cell_type": "code",
      "source": [
        "# RandomForest 훈련\n",
        "\n",
        "rand_clf = RandomForestClassifier(criterion='entropy', bootstrap=True, random_state=42, max_depth=11)\n",
        "\n",
        "rand_clf.fit(train_input, train_target)\n",
        "y_pred = rand_clf.predict(test_input)\n",
        "\n",
        "print('훈련세트 정확도: {:.3f}' .format(rand_clf.score(train_input, train_target)))\n",
        "print('테스트세트 정확도: {:.3f}' .format(rand_clf.score(test_input, test_target)))"
      ],
      "metadata": {
        "colab": {
          "base_uri": "https://localhost:8080/"
        },
        "id": "mCXZvYXpLm_Q",
        "outputId": "d33eeb45-8463-4787-ef4b-ddd636a5657e"
      },
      "execution_count": null,
      "outputs": [
        {
          "output_type": "stream",
          "name": "stdout",
          "text": [
            "훈련세트 정확도: 1.000\n",
            "테스트세트 정확도: 0.965\n"
          ]
        }
      ]
    },
    {
      "cell_type": "code",
      "source": [
        "# Load Datas\n",
        "\n",
        "from sklearn.datasets import load_breast_cancer\n",
        "\n",
        "cancer = load_breast_cancer()\n",
        "\n",
        "# Data Preprocessing\n",
        "\n",
        "from sklearn.model_selection import train_test_split\n",
        "\n",
        "train_input, test_input, train_target, test_target = train_test_split(cancer.data, cancer.target, test_size=0.2, random_state=42 )\n",
        "\n",
        "# 최적의 max_depth\n",
        "\n",
        "from sklearn.model_selection import KFold\n",
        "from sklearn.ensemble import RandomForestClassifier\n",
        "import pandas as pd\n",
        "\n",
        "cv = KFold(n_splits=5)\n",
        "accuracies = list()\n",
        "max_attributes = test_input.shape[1]\n",
        "depth_range = range(1, max_attributes)\n",
        "\n",
        "for depth in depth_range:\n",
        "    fold_accuracy = []\n",
        "    rand_clf = RandomForestClassifier(max_depth = depth)\n",
        "\n",
        "    model = rand_clf.fit(train_input, train_target)\n",
        "    valid_acc = model.score(test_input, test_target)\n",
        "    fold_accuracy.append(valid_acc)\n",
        "\n",
        "    avg = sum(fold_accuracy)/len(fold_accuracy)\n",
        "    accuracies.append(avg)\n",
        "\n",
        "df = pd.DataFrame({\"Max Depth\": depth_range, \"Average Accuracy\": accuracies})\n",
        "df = df[[\"Max Depth\", \"Average Accuracy\"]]\n",
        "print(df.to_string(index=False))\n",
        "\n",
        "# 이게 맞는지 모르겠지만 depth=12부터 정확도가 조금 떨어지므로 max_depth를 11로 설정할 것!\n",
        "\n",
        "# RandomForest 훈련\n",
        "\n",
        "rand_clf = RandomForestClassifier(criterion='entropy', bootstrap=True, random_state=42, max_depth=11)\n",
        "\n",
        "rand_clf.fit(train_input, train_target)\n",
        "y_pred = rand_clf.predict(test_input)\n",
        "\n",
        "print('훈련세트 정확도: {:.3f}' .format(rand_clf.score(train_input, train_target)))\n",
        "print('테스트세트 정확도: {:.3f}' .format(rand_clf.score(test_input, test_target)))"
      ],
      "metadata": {
        "colab": {
          "base_uri": "https://localhost:8080/"
        },
        "id": "A2BfnWP1NXhE",
        "outputId": "f4773627-e476-46ff-b869-53f21d45eaf2"
      },
      "execution_count": null,
      "outputs": [
        {
          "output_type": "stream",
          "name": "stdout",
          "text": [
            " Max Depth  Average Accuracy\n",
            "         1          0.947368\n",
            "         2          0.964912\n",
            "         3          0.964912\n",
            "         4          0.964912\n",
            "         5          0.964912\n",
            "         6          0.956140\n",
            "         7          0.964912\n",
            "         8          0.964912\n",
            "         9          0.964912\n",
            "        10          0.956140\n",
            "        11          0.964912\n",
            "        12          0.964912\n",
            "        13          0.956140\n",
            "        14          0.964912\n",
            "        15          0.964912\n",
            "        16          0.964912\n",
            "        17          0.964912\n",
            "        18          0.964912\n",
            "        19          0.964912\n",
            "        20          0.964912\n",
            "        21          0.964912\n",
            "        22          0.964912\n",
            "        23          0.964912\n",
            "        24          0.964912\n",
            "        25          0.964912\n",
            "        26          0.964912\n",
            "        27          0.956140\n",
            "        28          0.964912\n",
            "        29          0.964912\n",
            "훈련세트 정확도: 1.000\n",
            "테스트세트 정확도: 0.965\n"
          ]
        }
      ]
    },
    {
      "cell_type": "code",
      "source": [],
      "metadata": {
        "id": "tQUKovQWOGR1"
      },
      "execution_count": null,
      "outputs": []
    }
  ]
}