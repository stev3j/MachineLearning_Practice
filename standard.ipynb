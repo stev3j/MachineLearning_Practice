{
  "nbformat": 4,
  "nbformat_minor": 0,
  "metadata": {
    "colab": {
      "provenance": [],
      "authorship_tag": "ABX9TyO6oLhihJmTCOwwNt/C2wYt",
      "include_colab_link": true
    },
    "kernelspec": {
      "name": "python3",
      "display_name": "Python 3"
    },
    "language_info": {
      "name": "python"
    }
  },
  "cells": [
    {
      "cell_type": "markdown",
      "metadata": {
        "id": "view-in-github",
        "colab_type": "text"
      },
      "source": [
        "<a href=\"https://colab.research.google.com/github/stev3j/MachineLearning_Practice/blob/main/standard.ipynb\" target=\"_parent\"><img src=\"https://colab.research.google.com/assets/colab-badge.svg\" alt=\"Open In Colab\"/></a>"
      ]
    },
    {
      "cell_type": "code",
      "execution_count": 2,
      "metadata": {
        "id": "rPf_z3TkPoNw"
      },
      "outputs": [],
      "source": [
        "import numpy as np"
      ]
    },
    {
      "cell_type": "code",
      "source": [
        "x = [0,3,5,7,10]\n",
        "\n",
        "s = np.std(x) # 표준편차\n",
        "m = np.mean(x) # 평균\n",
        "score = (7 - m) / s # 7에 대한 점수(?)를 계산"
      ],
      "metadata": {
        "id": "x723XhsUQ4gk"
      },
      "execution_count": 3,
      "outputs": []
    },
    {
      "cell_type": "code",
      "source": [
        "print(score)"
      ],
      "metadata": {
        "colab": {
          "base_uri": "https://localhost:8080/"
        },
        "id": "oxQLMRsURD7I",
        "outputId": "14768034-c7fe-43da-9a85-37d0b8f23e92"
      },
      "execution_count": 4,
      "outputs": [
        {
          "output_type": "stream",
          "name": "stdout",
          "text": [
            "0.5872202195147035\n"
          ]
        }
      ]
    },
    {
      "cell_type": "code",
      "source": [
        "from scipy import stats"
      ],
      "metadata": {
        "id": "urXhR3LARHCx"
      },
      "execution_count": 5,
      "outputs": []
    },
    {
      "cell_type": "code",
      "source": [
        "stats.zscore(x) # x의 각 값에 대한 점수"
      ],
      "metadata": {
        "colab": {
          "base_uri": "https://localhost:8080/"
        },
        "id": "8aiZm5jQRm79",
        "outputId": "e269bc99-e7e7-47bb-f6cc-c95c878003dc"
      },
      "execution_count": 6,
      "outputs": [
        {
          "output_type": "execute_result",
          "data": {
            "text/plain": [
              "array([-1.46805055, -0.58722022,  0.        ,  0.58722022,  1.46805055])"
            ]
          },
          "metadata": {},
          "execution_count": 6
        }
      ]
    },
    {
      "cell_type": "code",
      "source": [
        "stats.norm.cdf(0)"
      ],
      "metadata": {
        "colab": {
          "base_uri": "https://localhost:8080/"
        },
        "id": "SOUm556YRp2G",
        "outputId": "d342c60b-f2be-4adf-82bc-82659e953488"
      },
      "execution_count": 7,
      "outputs": [
        {
          "output_type": "execute_result",
          "data": {
            "text/plain": [
              "0.5"
            ]
          },
          "metadata": {},
          "execution_count": 7
        }
      ]
    },
    {
      "cell_type": "code",
      "source": [
        "stats.norm.cdf(1.0) - stats.norm.cdf(-1.0) # %값 찾기"
      ],
      "metadata": {
        "colab": {
          "base_uri": "https://localhost:8080/"
        },
        "id": "crVezm66Sr2E",
        "outputId": "6142816d-d628-45da-a39b-4e96136d5e2d"
      },
      "execution_count": 8,
      "outputs": [
        {
          "output_type": "execute_result",
          "data": {
            "text/plain": [
              "0.6826894921370859"
            ]
          },
          "metadata": {},
          "execution_count": 8
        }
      ]
    },
    {
      "cell_type": "code",
      "source": [
        "stats.norm.cdf(2.0) - stats.norm.cdf(-2.0) # %값 찾기 (뭔 %?)"
      ],
      "metadata": {
        "colab": {
          "base_uri": "https://localhost:8080/"
        },
        "id": "0_L2Cq1jSycK",
        "outputId": "3b4f19eb-4c6b-465e-fb14-93ef40a862f2"
      },
      "execution_count": 9,
      "outputs": [
        {
          "output_type": "execute_result",
          "data": {
            "text/plain": [
              "0.9544997361036416"
            ]
          },
          "metadata": {},
          "execution_count": 9
        }
      ]
    },
    {
      "cell_type": "code",
      "source": [
        "stats.norm.ppf(0.9) # ?"
      ],
      "metadata": {
        "colab": {
          "base_uri": "https://localhost:8080/"
        },
        "id": "cNCisdmATEKr",
        "outputId": "414e29e7-5ba7-4693-925f-59c279067696"
      },
      "execution_count": 10,
      "outputs": [
        {
          "output_type": "execute_result",
          "data": {
            "text/plain": [
              "1.2815515655446004"
            ]
          },
          "metadata": {},
          "execution_count": 10
        }
      ]
    },
    {
      "cell_type": "code",
      "source": [
        "import gdown\n",
        "import pandas as pd"
      ],
      "metadata": {
        "id": "Nkc5FheYTIyz"
      },
      "execution_count": 11,
      "outputs": []
    },
    {
      "cell_type": "code",
      "source": [
        "gdown.download('https://bit.ly/3pK7iuu', 'ns_book7.csv', quiet=False)"
      ],
      "metadata": {
        "colab": {
          "base_uri": "https://localhost:8080/",
          "height": 104
        },
        "id": "SeQ-RV7HUavL",
        "outputId": "19c4c3cf-9ea0-49c0-93f0-b7f39685e9f3"
      },
      "execution_count": 12,
      "outputs": [
        {
          "output_type": "stream",
          "name": "stderr",
          "text": [
            "Downloading...\n",
            "From: https://bit.ly/3pK7iuu\n",
            "To: /content/ns_book7.csv\n",
            "100%|██████████| 53.8M/53.8M [00:00<00:00, 105MB/s]\n"
          ]
        },
        {
          "output_type": "execute_result",
          "data": {
            "text/plain": [
              "'ns_book7.csv'"
            ],
            "application/vnd.google.colaboratory.intrinsic+json": {
              "type": "string"
            }
          },
          "metadata": {},
          "execution_count": 12
        }
      ]
    },
    {
      "cell_type": "code",
      "source": [
        "ns_book7 = pd.read_csv('ns_book7.csv', low_memory=False)\n",
        "ns_book7.head() "
      ],
      "metadata": {
        "colab": {
          "base_uri": "https://localhost:8080/",
          "height": 510
        },
        "id": "Ey6E2YAWUiJl",
        "outputId": "c2634562-6129-4bac-be16-31afc3366f74"
      },
      "execution_count": 13,
      "outputs": [
        {
          "output_type": "execute_result",
          "data": {
            "text/plain": [
              "   번호                    도서명                저자    출판사  발행년도           ISBN  \\\n",
              "0   1                인공지능과 흙            김동훈 지음    민음사  2021  9788937444319   \n",
              "1   2           가짜 행복 권하는 사회            김태형 지음   갈매나무  2021  9791190123969   \n",
              "2   3  나도 한 문장 잘 쓰면 바랄 게 없겠네            김선영 지음   블랙피쉬  2021  9788968332982   \n",
              "3   4                예루살렘 해변  이도 게펜 지음, 임재희 옮김  문학세계사  2021  9788970759906   \n",
              "4   5  김성곤의 중국한시기행 : 장강·황하 편            김성곤 지음    김영사  2021  9788934990833   \n",
              "\n",
              "  세트 ISBN 부가기호    권 주제분류번호  도서권수  대출건수        등록일자  \n",
              "0     NaN  NaN  NaN    NaN     1     0  2021-03-19  \n",
              "1     NaN  NaN  NaN    NaN     1     0  2021-03-19  \n",
              "2     NaN  NaN  NaN    NaN     1     0  2021-03-19  \n",
              "3     NaN  NaN  NaN    NaN     1     0  2021-03-19  \n",
              "4     NaN  NaN  NaN    NaN     1     0  2021-03-19  "
            ],
            "text/html": [
              "\n",
              "  <div id=\"df-a36e1d18-a80b-4fe3-8d23-c50576d534a3\">\n",
              "    <div class=\"colab-df-container\">\n",
              "      <div>\n",
              "<style scoped>\n",
              "    .dataframe tbody tr th:only-of-type {\n",
              "        vertical-align: middle;\n",
              "    }\n",
              "\n",
              "    .dataframe tbody tr th {\n",
              "        vertical-align: top;\n",
              "    }\n",
              "\n",
              "    .dataframe thead th {\n",
              "        text-align: right;\n",
              "    }\n",
              "</style>\n",
              "<table border=\"1\" class=\"dataframe\">\n",
              "  <thead>\n",
              "    <tr style=\"text-align: right;\">\n",
              "      <th></th>\n",
              "      <th>번호</th>\n",
              "      <th>도서명</th>\n",
              "      <th>저자</th>\n",
              "      <th>출판사</th>\n",
              "      <th>발행년도</th>\n",
              "      <th>ISBN</th>\n",
              "      <th>세트 ISBN</th>\n",
              "      <th>부가기호</th>\n",
              "      <th>권</th>\n",
              "      <th>주제분류번호</th>\n",
              "      <th>도서권수</th>\n",
              "      <th>대출건수</th>\n",
              "      <th>등록일자</th>\n",
              "    </tr>\n",
              "  </thead>\n",
              "  <tbody>\n",
              "    <tr>\n",
              "      <th>0</th>\n",
              "      <td>1</td>\n",
              "      <td>인공지능과 흙</td>\n",
              "      <td>김동훈 지음</td>\n",
              "      <td>민음사</td>\n",
              "      <td>2021</td>\n",
              "      <td>9788937444319</td>\n",
              "      <td>NaN</td>\n",
              "      <td>NaN</td>\n",
              "      <td>NaN</td>\n",
              "      <td>NaN</td>\n",
              "      <td>1</td>\n",
              "      <td>0</td>\n",
              "      <td>2021-03-19</td>\n",
              "    </tr>\n",
              "    <tr>\n",
              "      <th>1</th>\n",
              "      <td>2</td>\n",
              "      <td>가짜 행복 권하는 사회</td>\n",
              "      <td>김태형 지음</td>\n",
              "      <td>갈매나무</td>\n",
              "      <td>2021</td>\n",
              "      <td>9791190123969</td>\n",
              "      <td>NaN</td>\n",
              "      <td>NaN</td>\n",
              "      <td>NaN</td>\n",
              "      <td>NaN</td>\n",
              "      <td>1</td>\n",
              "      <td>0</td>\n",
              "      <td>2021-03-19</td>\n",
              "    </tr>\n",
              "    <tr>\n",
              "      <th>2</th>\n",
              "      <td>3</td>\n",
              "      <td>나도 한 문장 잘 쓰면 바랄 게 없겠네</td>\n",
              "      <td>김선영 지음</td>\n",
              "      <td>블랙피쉬</td>\n",
              "      <td>2021</td>\n",
              "      <td>9788968332982</td>\n",
              "      <td>NaN</td>\n",
              "      <td>NaN</td>\n",
              "      <td>NaN</td>\n",
              "      <td>NaN</td>\n",
              "      <td>1</td>\n",
              "      <td>0</td>\n",
              "      <td>2021-03-19</td>\n",
              "    </tr>\n",
              "    <tr>\n",
              "      <th>3</th>\n",
              "      <td>4</td>\n",
              "      <td>예루살렘 해변</td>\n",
              "      <td>이도 게펜 지음, 임재희 옮김</td>\n",
              "      <td>문학세계사</td>\n",
              "      <td>2021</td>\n",
              "      <td>9788970759906</td>\n",
              "      <td>NaN</td>\n",
              "      <td>NaN</td>\n",
              "      <td>NaN</td>\n",
              "      <td>NaN</td>\n",
              "      <td>1</td>\n",
              "      <td>0</td>\n",
              "      <td>2021-03-19</td>\n",
              "    </tr>\n",
              "    <tr>\n",
              "      <th>4</th>\n",
              "      <td>5</td>\n",
              "      <td>김성곤의 중국한시기행 : 장강·황하 편</td>\n",
              "      <td>김성곤 지음</td>\n",
              "      <td>김영사</td>\n",
              "      <td>2021</td>\n",
              "      <td>9788934990833</td>\n",
              "      <td>NaN</td>\n",
              "      <td>NaN</td>\n",
              "      <td>NaN</td>\n",
              "      <td>NaN</td>\n",
              "      <td>1</td>\n",
              "      <td>0</td>\n",
              "      <td>2021-03-19</td>\n",
              "    </tr>\n",
              "  </tbody>\n",
              "</table>\n",
              "</div>\n",
              "      <button class=\"colab-df-convert\" onclick=\"convertToInteractive('df-a36e1d18-a80b-4fe3-8d23-c50576d534a3')\"\n",
              "              title=\"Convert this dataframe to an interactive table.\"\n",
              "              style=\"display:none;\">\n",
              "        \n",
              "  <svg xmlns=\"http://www.w3.org/2000/svg\" height=\"24px\"viewBox=\"0 0 24 24\"\n",
              "       width=\"24px\">\n",
              "    <path d=\"M0 0h24v24H0V0z\" fill=\"none\"/>\n",
              "    <path d=\"M18.56 5.44l.94 2.06.94-2.06 2.06-.94-2.06-.94-.94-2.06-.94 2.06-2.06.94zm-11 1L8.5 8.5l.94-2.06 2.06-.94-2.06-.94L8.5 2.5l-.94 2.06-2.06.94zm10 10l.94 2.06.94-2.06 2.06-.94-2.06-.94-.94-2.06-.94 2.06-2.06.94z\"/><path d=\"M17.41 7.96l-1.37-1.37c-.4-.4-.92-.59-1.43-.59-.52 0-1.04.2-1.43.59L10.3 9.45l-7.72 7.72c-.78.78-.78 2.05 0 2.83L4 21.41c.39.39.9.59 1.41.59.51 0 1.02-.2 1.41-.59l7.78-7.78 2.81-2.81c.8-.78.8-2.07 0-2.86zM5.41 20L4 18.59l7.72-7.72 1.47 1.35L5.41 20z\"/>\n",
              "  </svg>\n",
              "      </button>\n",
              "      \n",
              "  <style>\n",
              "    .colab-df-container {\n",
              "      display:flex;\n",
              "      flex-wrap:wrap;\n",
              "      gap: 12px;\n",
              "    }\n",
              "\n",
              "    .colab-df-convert {\n",
              "      background-color: #E8F0FE;\n",
              "      border: none;\n",
              "      border-radius: 50%;\n",
              "      cursor: pointer;\n",
              "      display: none;\n",
              "      fill: #1967D2;\n",
              "      height: 32px;\n",
              "      padding: 0 0 0 0;\n",
              "      width: 32px;\n",
              "    }\n",
              "\n",
              "    .colab-df-convert:hover {\n",
              "      background-color: #E2EBFA;\n",
              "      box-shadow: 0px 1px 2px rgba(60, 64, 67, 0.3), 0px 1px 3px 1px rgba(60, 64, 67, 0.15);\n",
              "      fill: #174EA6;\n",
              "    }\n",
              "\n",
              "    [theme=dark] .colab-df-convert {\n",
              "      background-color: #3B4455;\n",
              "      fill: #D2E3FC;\n",
              "    }\n",
              "\n",
              "    [theme=dark] .colab-df-convert:hover {\n",
              "      background-color: #434B5C;\n",
              "      box-shadow: 0px 1px 3px 1px rgba(0, 0, 0, 0.15);\n",
              "      filter: drop-shadow(0px 1px 2px rgba(0, 0, 0, 0.3));\n",
              "      fill: #FFFFFF;\n",
              "    }\n",
              "  </style>\n",
              "\n",
              "      <script>\n",
              "        const buttonEl =\n",
              "          document.querySelector('#df-a36e1d18-a80b-4fe3-8d23-c50576d534a3 button.colab-df-convert');\n",
              "        buttonEl.style.display =\n",
              "          google.colab.kernel.accessAllowed ? 'block' : 'none';\n",
              "\n",
              "        async function convertToInteractive(key) {\n",
              "          const element = document.querySelector('#df-a36e1d18-a80b-4fe3-8d23-c50576d534a3');\n",
              "          const dataTable =\n",
              "            await google.colab.kernel.invokeFunction('convertToInteractive',\n",
              "                                                     [key], {});\n",
              "          if (!dataTable) return;\n",
              "\n",
              "          const docLinkHtml = 'Like what you see? Visit the ' +\n",
              "            '<a target=\"_blank\" href=https://colab.research.google.com/notebooks/data_table.ipynb>data table notebook</a>'\n",
              "            + ' to learn more about interactive tables.';\n",
              "          element.innerHTML = '';\n",
              "          dataTable['output_type'] = 'display_data';\n",
              "          await google.colab.output.renderOutput(dataTable, element);\n",
              "          const docLink = document.createElement('div');\n",
              "          docLink.innerHTML = docLinkHtml;\n",
              "          element.appendChild(docLink);\n",
              "        }\n",
              "      </script>\n",
              "    </div>\n",
              "  </div>\n",
              "  "
            ]
          },
          "metadata": {},
          "execution_count": 13
        }
      ]
    },
    {
      "cell_type": "code",
      "source": [
        "import matplotlib.pyplot as plt"
      ],
      "metadata": {
        "id": "53_iEGVpUsZN"
      },
      "execution_count": 14,
      "outputs": []
    },
    {
      "cell_type": "code",
      "source": [
        "plt.hist(ns_book7['대출건수'], bins=50)\n",
        "plt.yscale('log') # 10^n으로 y 눈금 설정\n",
        "plt.show()"
      ],
      "metadata": {
        "colab": {
          "base_uri": "https://localhost:8080/",
          "height": 430
        },
        "id": "OoL1ta-WU-qk",
        "outputId": "7952fef2-247f-4113-a9a4-4582f5936774"
      },
      "execution_count": 15,
      "outputs": [
        {
          "output_type": "display_data",
          "data": {
            "text/plain": [
              "<Figure size 640x480 with 1 Axes>"
            ],
            "image/png": "[encoded data removed]"
          },
          "metadata": {}
        }
      ]
    },
    {
      "cell_type": "code",
      "source": [
        "np.random.seed(42) # 이거하면 담에 나올 값이 통일됨?\n",
        "\n",
        "sample_means = []\n",
        "\n",
        "for _ in range(1000):\n",
        "    m = ns_book7['대출건수'].sample(30).mean() # 30씩 나눠 평균을 구함\n",
        "    sample_means.append(m)"
      ],
      "metadata": {
        "id": "VpawGnthVDe_"
      },
      "execution_count": 16,
      "outputs": []
    },
    {
      "cell_type": "code",
      "source": [
        "plt.hist(sample_means, bins=30)\n",
        "plt.show()"
      ],
      "metadata": {
        "colab": {
          "base_uri": "https://localhost:8080/",
          "height": 430
        },
        "id": "ZiVwWAloVwTP",
        "outputId": "9a944812-3d58-46eb-a46c-cc9b5d6abeb7"
      },
      "execution_count": 17,
      "outputs": [
        {
          "output_type": "display_data",
          "data": {
            "text/plain": [
              "<Figure size 640x480 with 1 Axes>"
            ],
            "image/png": "[encoded data removed]"
          },
          "metadata": {}
        }
      ]
    },
    {
      "cell_type": "code",
      "source": [
        "np.mean(sample_means)"
      ],
      "metadata": {
        "colab": {
          "base_uri": "https://localhost:8080/"
        },
        "id": "Xx9k_kubV03x",
        "outputId": "2a8936ed-1d04-4ac4-f106-e1b5a11bcb45"
      },
      "execution_count": 18,
      "outputs": [
        {
          "output_type": "execute_result",
          "data": {
            "text/plain": [
              "11.539900000000001"
            ]
          },
          "metadata": {},
          "execution_count": 18
        }
      ]
    },
    {
      "cell_type": "code",
      "source": [
        "ns_book7['대출건수'].mean()"
      ],
      "metadata": {
        "colab": {
          "base_uri": "https://localhost:8080/"
        },
        "id": "bh88SDGaW5s0",
        "outputId": "3c1676b9-0ff4-4d35-fb19-ee8346b4abc9"
      },
      "execution_count": 19,
      "outputs": [
        {
          "output_type": "execute_result",
          "data": {
            "text/plain": [
              "11.593438968070707"
            ]
          },
          "metadata": {},
          "execution_count": 19
        }
      ]
    },
    {
      "cell_type": "code",
      "source": [
        "np.random.seed(42) # 이거하면 담에 나올 값이 통일됨?\n",
        "\n",
        "sample_means = []\n",
        "\n",
        "for _ in range(1000):\n",
        "    m = ns_book7['대출건수'].sample(20).mean() # 20씩 나눠 평균을 구함\n",
        "    sample_means.append(m)\n",
        "np.mean(sample_means)"
      ],
      "metadata": {
        "colab": {
          "base_uri": "https://localhost:8080/"
        },
        "id": "QDifpB59W-PV",
        "outputId": "8be14f10-5e6b-43d3-a23a-29cecde81257"
      },
      "execution_count": 20,
      "outputs": [
        {
          "output_type": "execute_result",
          "data": {
            "text/plain": [
              "11.39945"
            ]
          },
          "metadata": {},
          "execution_count": 20
        }
      ]
    },
    {
      "cell_type": "code",
      "source": [
        "np.random.seed(42) # 이거하면 담에 나올 값이 통일됨?\n",
        "\n",
        "sample_means = []\n",
        "\n",
        "for _ in range(1000):\n",
        "    m = ns_book7['대출건수'].sample(40).mean() # 40씩 나눠 평균을 구함\n",
        "    sample_means.append(m)\n",
        "np.mean(sample_means)"
      ],
      "metadata": {
        "colab": {
          "base_uri": "https://localhost:8080/"
        },
        "id": "5j3_MwgfXQw6",
        "outputId": "24e6ecad-94f5-43a5-d735-ca7df133a2d1"
      },
      "execution_count": 21,
      "outputs": [
        {
          "output_type": "execute_result",
          "data": {
            "text/plain": [
              "11.5613"
            ]
          },
          "metadata": {},
          "execution_count": 21
        }
      ]
    },
    {
      "cell_type": "code",
      "source": [
        "np.std(sample_means)"
      ],
      "metadata": {
        "colab": {
          "base_uri": "https://localhost:8080/"
        },
        "id": "2yxOo_Z4XS6_",
        "outputId": "ecaf818d-f7f3-43a8-95d1-c25dce8ef386"
      },
      "execution_count": 22,
      "outputs": [
        {
          "output_type": "execute_result",
          "data": {
            "text/plain": [
              "3.0355987564235165"
            ]
          },
          "metadata": {},
          "execution_count": 22
        }
      ]
    },
    {
      "cell_type": "code",
      "source": [
        "np.std(ns_book7['대출건수']) / np.sqrt(40) # 뭘 말하는 거임;;"
      ],
      "metadata": {
        "colab": {
          "base_uri": "https://localhost:8080/"
        },
        "id": "9a3QuDvRX201",
        "outputId": "1dfac6d6-42bc-4f58-c874-603f095b8f9b"
      },
      "execution_count": 23,
      "outputs": [
        {
          "output_type": "execute_result",
          "data": {
            "text/plain": [
              "3.048338251806833"
            ]
          },
          "metadata": {},
          "execution_count": 23
        }
      ]
    },
    {
      "cell_type": "code",
      "source": [
        "python_books_index = ns_book7['주제분류번호'].str.startswith('00') & ns_book7['도서명'].str.contains('파이썬')\n",
        "python_books = ns_book7[python_books_index]\n",
        "python_books.head()"
      ],
      "metadata": {
        "id": "tCTxaHq-X7eM",
        "colab": {
          "base_uri": "https://localhost:8080/",
          "height": 892
        },
        "outputId": "3eee739f-3b1f-4e67-b04f-e86bc1a3f136"
      },
      "execution_count": 27,
      "outputs": [
        {
          "output_type": "execute_result",
          "data": {
            "text/plain": [
              "        번호                                                도서명  \\\n",
              "1040  1060  실전 알고리즘 트레이딩 배우기 (파이썬으로 시작하는 알고리즘 트레이딩의 기초와 실전...   \n",
              "1162  1185                          파이썬으로 경험하는 빅데이터 분석과 머신러닝    \n",
              "1447  1504            금융 파이썬 쿡북 (금융 데이터 처리와 기술 분석부터 딥러닝 적용까지)   \n",
              "1563  1630      프로그래머를 위한 파이썬 (실전 프로젝트로 배우는 소프트웨어 개발의 원리와 정석)   \n",
              "1571  1640                엑셀 × 파이썬 업무 자동화 - 매크로, VBA는 이제 낡았다!   \n",
              "\n",
              "                             저자    출판사  발행년도           ISBN 세트 ISBN 부가기호    권  \\\n",
              "1040   세바스티앙 도나디오.수라브 고쉬 지음|이기홍  에이콘출판  2021  9791161754901     NaN  NaN  NaN   \n",
              "1162                 이영호,이수현 지음  생능출판사  2021  9788970504803     NaN    9  NaN   \n",
              "1447                     에릭 르윈슨  에이콘출판  2021  9791161750507     NaN  NaN  NaN   \n",
              "1563              데인 힐라드 지음|황반석    제이펍  2020  9791190665636     NaN  NaN  NaN   \n",
              "1571  카네히로 카즈미 (지은이), 서수환 (옮긴이)   인사이트  2020  9788966262847     NaN  NaN  NaN   \n",
              "\n",
              "       주제분류번호  도서권수  대출건수        등록일자  \n",
              "1040   004.73     1     1  2021-03-09  \n",
              "1162  005.135     1     1  2021-03-02  \n",
              "1447  005.133     1     2  2021-02-22  \n",
              "1563  005.133     1     2  2021-02-16  \n",
              "1571   005.53     1     2  2021-02-16  "
            ],
            "text/html": [
              "\n",
              "  <div id=\"df-bb7bb182-ed61-480d-b17f-cc4543274bb4\">\n",
              "    <div class=\"colab-df-container\">\n",
              "      <div>\n",
              "<style scoped>\n",
              "    .dataframe tbody tr th:only-of-type {\n",
              "        vertical-align: middle;\n",
              "    }\n",
              "\n",
              "    .dataframe tbody tr th {\n",
              "        vertical-align: top;\n",
              "    }\n",
              "\n",
              "    .dataframe thead th {\n",
              "        text-align: right;\n",
              "    }\n",
              "</style>\n",
              "<table border=\"1\" class=\"dataframe\">\n",
              "  <thead>\n",
              "    <tr style=\"text-align: right;\">\n",
              "      <th></th>\n",
              "      <th>번호</th>\n",
              "      <th>도서명</th>\n",
              "      <th>저자</th>\n",
              "      <th>출판사</th>\n",
              "      <th>발행년도</th>\n",
              "      <th>ISBN</th>\n",
              "      <th>세트 ISBN</th>\n",
              "      <th>부가기호</th>\n",
              "      <th>권</th>\n",
              "      <th>주제분류번호</th>\n",
              "      <th>도서권수</th>\n",
              "      <th>대출건수</th>\n",
              "      <th>등록일자</th>\n",
              "    </tr>\n",
              "  </thead>\n",
              "  <tbody>\n",
              "    <tr>\n",
              "      <th>1040</th>\n",
              "      <td>1060</td>\n",
              "      <td>실전 알고리즘 트레이딩 배우기 (파이썬으로 시작하는 알고리즘 트레이딩의 기초와 실전...</td>\n",
              "      <td>세바스티앙 도나디오.수라브 고쉬 지음|이기홍</td>\n",
              "      <td>에이콘출판</td>\n",
              "      <td>2021</td>\n",
              "      <td>9791161754901</td>\n",
              "      <td>NaN</td>\n",
              "      <td>NaN</td>\n",
              "      <td>NaN</td>\n",
              "      <td>004.73</td>\n",
              "      <td>1</td>\n",
              "      <td>1</td>\n",
              "      <td>2021-03-09</td>\n",
              "    </tr>\n",
              "    <tr>\n",
              "      <th>1162</th>\n",
              "      <td>1185</td>\n",
              "      <td>파이썬으로 경험하는 빅데이터 분석과 머신러닝</td>\n",
              "      <td>이영호,이수현 지음</td>\n",
              "      <td>생능출판사</td>\n",
              "      <td>2021</td>\n",
              "      <td>9788970504803</td>\n",
              "      <td>NaN</td>\n",
              "      <td>9</td>\n",
              "      <td>NaN</td>\n",
              "      <td>005.135</td>\n",
              "      <td>1</td>\n",
              "      <td>1</td>\n",
              "      <td>2021-03-02</td>\n",
              "    </tr>\n",
              "    <tr>\n",
              "      <th>1447</th>\n",
              "      <td>1504</td>\n",
              "      <td>금융 파이썬 쿡북 (금융 데이터 처리와 기술 분석부터 딥러닝 적용까지)</td>\n",
              "      <td>에릭 르윈슨</td>\n",
              "      <td>에이콘출판</td>\n",
              "      <td>2021</td>\n",
              "      <td>9791161750507</td>\n",
              "      <td>NaN</td>\n",
              "      <td>NaN</td>\n",
              "      <td>NaN</td>\n",
              "      <td>005.133</td>\n",
              "      <td>1</td>\n",
              "      <td>2</td>\n",
              "      <td>2021-02-22</td>\n",
              "    </tr>\n",
              "    <tr>\n",
              "      <th>1563</th>\n",
              "      <td>1630</td>\n",
              "      <td>프로그래머를 위한 파이썬 (실전 프로젝트로 배우는 소프트웨어 개발의 원리와 정석)</td>\n",
              "      <td>데인 힐라드 지음|황반석</td>\n",
              "      <td>제이펍</td>\n",
              "      <td>2020</td>\n",
              "      <td>9791190665636</td>\n",
              "      <td>NaN</td>\n",
              "      <td>NaN</td>\n",
              "      <td>NaN</td>\n",
              "      <td>005.133</td>\n",
              "      <td>1</td>\n",
              "      <td>2</td>\n",
              "      <td>2021-02-16</td>\n",
              "    </tr>\n",
              "    <tr>\n",
              "      <th>1571</th>\n",
              "      <td>1640</td>\n",
              "      <td>엑셀 × 파이썬 업무 자동화 - 매크로, VBA는 이제 낡았다!</td>\n",
              "      <td>카네히로 카즈미 (지은이), 서수환 (옮긴이)</td>\n",
              "      <td>인사이트</td>\n",
              "      <td>2020</td>\n",
              "      <td>9788966262847</td>\n",
              "      <td>NaN</td>\n",
              "      <td>NaN</td>\n",
              "      <td>NaN</td>\n",
              "      <td>005.53</td>\n",
              "      <td>1</td>\n",
              "      <td>2</td>\n",
              "      <td>2021-02-16</td>\n",
              "    </tr>\n",
              "  </tbody>\n",
              "</table>\n",
              "</div>\n",
              "      <button class=\"colab-df-convert\" onclick=\"convertToInteractive('df-bb7bb182-ed61-480d-b17f-cc4543274bb4')\"\n",
              "              title=\"Convert this dataframe to an interactive table.\"\n",
              "              style=\"display:none;\">\n",
              "        \n",
              "  <svg xmlns=\"http://www.w3.org/2000/svg\" height=\"24px\"viewBox=\"0 0 24 24\"\n",
              "       width=\"24px\">\n",
              "    <path d=\"M0 0h24v24H0V0z\" fill=\"none\"/>\n",
              "    <path d=\"M18.56 5.44l.94 2.06.94-2.06 2.06-.94-2.06-.94-.94-2.06-.94 2.06-2.06.94zm-11 1L8.5 8.5l.94-2.06 2.06-.94-2.06-.94L8.5 2.5l-.94 2.06-2.06.94zm10 10l.94 2.06.94-2.06 2.06-.94-2.06-.94-.94-2.06-.94 2.06-2.06.94z\"/><path d=\"M17.41 7.96l-1.37-1.37c-.4-.4-.92-.59-1.43-.59-.52 0-1.04.2-1.43.59L10.3 9.45l-7.72 7.72c-.78.78-.78 2.05 0 2.83L4 21.41c.39.39.9.59 1.41.59.51 0 1.02-.2 1.41-.59l7.78-7.78 2.81-2.81c.8-.78.8-2.07 0-2.86zM5.41 20L4 18.59l7.72-7.72 1.47 1.35L5.41 20z\"/>\n",
              "  </svg>\n",
              "      </button>\n",
              "      \n",
              "  <style>\n",
              "    .colab-df-container {\n",
              "      display:flex;\n",
              "      flex-wrap:wrap;\n",
              "      gap: 12px;\n",
              "    }\n",
              "\n",
              "    .colab-df-convert {\n",
              "      background-color: #E8F0FE;\n",
              "      border: none;\n",
              "      border-radius: 50%;\n",
              "      cursor: pointer;\n",
              "      display: none;\n",
              "      fill: #1967D2;\n",
              "      height: 32px;\n",
              "      padding: 0 0 0 0;\n",
              "      width: 32px;\n",
              "    }\n",
              "\n",
              "    .colab-df-convert:hover {\n",
              "      background-color: #E2EBFA;\n",
              "      box-shadow: 0px 1px 2px rgba(60, 64, 67, 0.3), 0px 1px 3px 1px rgba(60, 64, 67, 0.15);\n",
              "      fill: #174EA6;\n",
              "    }\n",
              "\n",
              "    [theme=dark] .colab-df-convert {\n",
              "      background-color: #3B4455;\n",
              "      fill: #D2E3FC;\n",
              "    }\n",
              "\n",
              "    [theme=dark] .colab-df-convert:hover {\n",
              "      background-color: #434B5C;\n",
              "      box-shadow: 0px 1px 3px 1px rgba(0, 0, 0, 0.15);\n",
              "      filter: drop-shadow(0px 1px 2px rgba(0, 0, 0, 0.3));\n",
              "      fill: #FFFFFF;\n",
              "    }\n",
              "  </style>\n",
              "\n",
              "      <script>\n",
              "        const buttonEl =\n",
              "          document.querySelector('#df-bb7bb182-ed61-480d-b17f-cc4543274bb4 button.colab-df-convert');\n",
              "        buttonEl.style.display =\n",
              "          google.colab.kernel.accessAllowed ? 'block' : 'none';\n",
              "\n",
              "        async function convertToInteractive(key) {\n",
              "          const element = document.querySelector('#df-bb7bb182-ed61-480d-b17f-cc4543274bb4');\n",
              "          const dataTable =\n",
              "            await google.colab.kernel.invokeFunction('convertToInteractive',\n",
              "                                                     [key], {});\n",
              "          if (!dataTable) return;\n",
              "\n",
              "          const docLinkHtml = 'Like what you see? Visit the ' +\n",
              "            '<a target=\"_blank\" href=https://colab.research.google.com/notebooks/data_table.ipynb>data table notebook</a>'\n",
              "            + ' to learn more about interactive tables.';\n",
              "          element.innerHTML = '';\n",
              "          dataTable['output_type'] = 'display_data';\n",
              "          await google.colab.output.renderOutput(dataTable, element);\n",
              "          const docLink = document.createElement('div');\n",
              "          docLink.innerHTML = docLinkHtml;\n",
              "          element.appendChild(docLink);\n",
              "        }\n",
              "      </script>\n",
              "    </div>\n",
              "  </div>\n",
              "  "
            ]
          },
          "metadata": {},
          "execution_count": 27
        }
      ]
    },
    {
      "cell_type": "code",
      "source": [
        "len(python_books)"
      ],
      "metadata": {
        "colab": {
          "base_uri": "https://localhost:8080/"
        },
        "id": "cIwvU_JLxljw",
        "outputId": "b1dce3f7-db0a-4272-fdc8-df1ef8852bae"
      },
      "execution_count": 28,
      "outputs": [
        {
          "output_type": "execute_result",
          "data": {
            "text/plain": [
              "251"
            ]
          },
          "metadata": {},
          "execution_count": 28
        }
      ]
    },
    {
      "cell_type": "code",
      "source": [
        "python_mean = np.mean(python_books['대출건수'])\n",
        "python_mean"
      ],
      "metadata": {
        "colab": {
          "base_uri": "https://localhost:8080/"
        },
        "id": "FUlj-gAXyjqG",
        "outputId": "5e6ae763-5891-44d6-a472-f527c5ea2f2a"
      },
      "execution_count": 29,
      "outputs": [
        {
          "output_type": "execute_result",
          "data": {
            "text/plain": [
              "14.749003984063744"
            ]
          },
          "metadata": {},
          "execution_count": 29
        }
      ]
    },
    {
      "cell_type": "code",
      "source": [
        "python_std = np.std(python_books['대출건수'])\n",
        "python_se = python_std / np.sqrt(len(python_books))\n",
        "python_se"
      ],
      "metadata": {
        "colab": {
          "base_uri": "https://localhost:8080/"
        },
        "id": "QI4ffnnQyp0R",
        "outputId": "81defde4-aae9-43ad-eb7c-820f32afd272"
      },
      "execution_count": 31,
      "outputs": [
        {
          "output_type": "execute_result",
          "data": {
            "text/plain": [
              "0.8041612072427442"
            ]
          },
          "metadata": {},
          "execution_count": 31
        }
      ]
    },
    {
      "cell_type": "code",
      "source": [
        "# 제목 : 사제 동행 한마당\n",
        "# 일시 : 5월 15일\n",
        "# 일정 : ~~~~"
      ],
      "metadata": {
        "id": "8XzJQCNgzxDS"
      },
      "execution_count": 32,
      "outputs": []
    },
    {
      "cell_type": "code",
      "source": [
        "print(python_mean-1.96*python_se, python_mean+1.96*python_se)"
      ],
      "metadata": {
        "colab": {
          "base_uri": "https://localhost:8080/"
        },
        "id": "jAPTrEVr0U0w",
        "outputId": "ada611dd-ce7b-46ee-e364-c46f0d100fae"
      },
      "execution_count": 34,
      "outputs": [
        {
          "output_type": "stream",
          "name": "stdout",
          "text": [
            "13.172848017867965 16.325159950259522\n"
          ]
        }
      ]
    },
    {
      "cell_type": "code",
      "source": [
        "cplus_books_index = ns_book7['주제분류번호'].str.startswith('00') & ns_book7['도서명'].str.contains('C++', regex=False)\n",
        "cplus_books = ns_book7[cplus_books_index]\n",
        "cplus_books"
      ],
      "metadata": {
        "colab": {
          "base_uri": "https://localhost:8080/",
          "height": 1000
        },
        "id": "FIATuu__0bad",
        "outputId": "6a5655b0-88f3-4ab8-8f1f-519f04ff575d"
      },
      "execution_count": 35,
      "outputs": [
        {
          "output_type": "execute_result",
          "data": {
            "text/plain": [
              "            번호                                                도서명  \\\n",
              "101        103  C++를 사용한 언리얼 엔진 4 개발 2/e (100여 개의 레시피를 통해 배우는 ...   \n",
              "19754    20779                            Game Programming in C++   \n",
              "20198    21289                 C++ API OpenCV 프로그래밍 - 2nd Edition   \n",
              "21630    22950  Visual C++ 영상처리 프로그래밍 =Visual C++ image proces...   \n",
              "22461    23859                      Functional Programming in C++   \n",
              "...        ...                                                ...   \n",
              "205998  222790                                (공학도를 위한) 최소한의 C++    \n",
              "206348  223163                            (예제로 쉽게 풀어쓴) C++ 프로그래밍    \n",
              "209463  226361                              Visual C++ 게임 제작 고수열강   \n",
              "214280  231331  (gcc로 공부하는) C++ programming과 wxWidgets GUI개발 :...   \n",
              "217844  234966                            Qt 4를 이용한 C++ GUI 프로그래밍   \n",
              "\n",
              "                                 저자      출판사  발행년도           ISBN 세트 ISBN  \\\n",
              "101     존 도란.윌리엄 셰리프.스테판 화이틀 지음|조경빈      에이콘  2020  9791161754659     NaN   \n",
              "19754                      산자이 마드하브    에이콘출판  2019  9791161753560     NaN   \n",
              "20198                           김동근    가메출판사  2016  9788980782864     NaN   \n",
              "21630                        황선규 지음       길벗  2015  9791186978153     NaN   \n",
              "22461             이반 추키츠 지음, 김점갑 옮김    에이콘출판  2019  9791161753416     NaN   \n",
              "...                             ...      ...   ...            ...     ...   \n",
              "205998                   이창섭;고윤호 공저      문운당  2009  9788973935383     NaN   \n",
              "206348                       강성수 지음    BM성안당  2009  9788931550399     NaN   \n",
              "209463                       오정근 지음    구민미디어  2009  9788993393255     NaN   \n",
              "214280                        김태용 저  수퍼유저코리아  2009  9788992927123     NaN   \n",
              "217844   자스민 블랑쉐;마크 서머필드 지음 ;조성만 옮김      ITC  2009  9788963510002     NaN   \n",
              "\n",
              "       부가기호    권   주제분류번호  도서권수  대출건수        등록일자  \n",
              "101     NaN  NaN   005.11     1     1  2021-03-15  \n",
              "19754   NaN  NaN  005.133     1    10  2019-11-26  \n",
              "20198   NaN  NaN   004.77     1     5  2019-11-05  \n",
              "21630     9  NaN   004.77     1     3  2019-10-22  \n",
              "22461   NaN  NaN  005.133     1     4  2019-09-26  \n",
              "...     ...  ...      ...   ...   ...         ...  \n",
              "205998    9  NaN  005.135     1     3  2009-10-28  \n",
              "206348    9  NaN  005.137     1    10  2009-10-14  \n",
              "209463    1  NaN  005.137     1     5  2009-08-17  \n",
              "214280    1  NaN  005.135     1    17  2009-06-19  \n",
              "217844    1  NaN  005.135     1    23  2009-04-30  \n",
              "\n",
              "[89 rows x 13 columns]"
            ],
            "text/html": [
              "\n",
              "  <div id=\"df-7667c915-f683-43ca-9f3b-f1def5b62b67\">\n",
              "    <div class=\"colab-df-container\">\n",
              "      <div>\n",
              "<style scoped>\n",
              "    .dataframe tbody tr th:only-of-type {\n",
              "        vertical-align: middle;\n",
              "    }\n",
              "\n",
              "    .dataframe tbody tr th {\n",
              "        vertical-align: top;\n",
              "    }\n",
              "\n",
              "    .dataframe thead th {\n",
              "        text-align: right;\n",
              "    }\n",
              "</style>\n",
              "<table border=\"1\" class=\"dataframe\">\n",
              "  <thead>\n",
              "    <tr style=\"text-align: right;\">\n",
              "      <th></th>\n",
              "      <th>번호</th>\n",
              "      <th>도서명</th>\n",
              "      <th>저자</th>\n",
              "      <th>출판사</th>\n",
              "      <th>발행년도</th>\n",
              "      <th>ISBN</th>\n",
              "      <th>세트 ISBN</th>\n",
              "      <th>부가기호</th>\n",
              "      <th>권</th>\n",
              "      <th>주제분류번호</th>\n",
              "      <th>도서권수</th>\n",
              "      <th>대출건수</th>\n",
              "      <th>등록일자</th>\n",
              "    </tr>\n",
              "  </thead>\n",
              "  <tbody>\n",
              "    <tr>\n",
              "      <th>101</th>\n",
              "      <td>103</td>\n",
              "      <td>C++를 사용한 언리얼 엔진 4 개발 2/e (100여 개의 레시피를 통해 배우는 ...</td>\n",
              "      <td>존 도란.윌리엄 셰리프.스테판 화이틀 지음|조경빈</td>\n",
              "      <td>에이콘</td>\n",
              "      <td>2020</td>\n",
              "      <td>9791161754659</td>\n",
              "      <td>NaN</td>\n",
              "      <td>NaN</td>\n",
              "      <td>NaN</td>\n",
              "      <td>005.11</td>\n",
              "      <td>1</td>\n",
              "      <td>1</td>\n",
              "      <td>2021-03-15</td>\n",
              "    </tr>\n",
              "    <tr>\n",
              "      <th>19754</th>\n",
              "      <td>20779</td>\n",
              "      <td>Game Programming in C++</td>\n",
              "      <td>산자이 마드하브</td>\n",
              "      <td>에이콘출판</td>\n",
              "      <td>2019</td>\n",
              "      <td>9791161753560</td>\n",
              "      <td>NaN</td>\n",
              "      <td>NaN</td>\n",
              "      <td>NaN</td>\n",
              "      <td>005.133</td>\n",
              "      <td>1</td>\n",
              "      <td>10</td>\n",
              "      <td>2019-11-26</td>\n",
              "    </tr>\n",
              "    <tr>\n",
              "      <th>20198</th>\n",
              "      <td>21289</td>\n",
              "      <td>C++ API OpenCV 프로그래밍 - 2nd Edition</td>\n",
              "      <td>김동근</td>\n",
              "      <td>가메출판사</td>\n",
              "      <td>2016</td>\n",
              "      <td>9788980782864</td>\n",
              "      <td>NaN</td>\n",
              "      <td>NaN</td>\n",
              "      <td>NaN</td>\n",
              "      <td>004.77</td>\n",
              "      <td>1</td>\n",
              "      <td>5</td>\n",
              "      <td>2019-11-05</td>\n",
              "    </tr>\n",
              "    <tr>\n",
              "      <th>21630</th>\n",
              "      <td>22950</td>\n",
              "      <td>Visual C++ 영상처리 프로그래밍 =Visual C++ image proces...</td>\n",
              "      <td>황선규 지음</td>\n",
              "      <td>길벗</td>\n",
              "      <td>2015</td>\n",
              "      <td>9791186978153</td>\n",
              "      <td>NaN</td>\n",
              "      <td>9</td>\n",
              "      <td>NaN</td>\n",
              "      <td>004.77</td>\n",
              "      <td>1</td>\n",
              "      <td>3</td>\n",
              "      <td>2019-10-22</td>\n",
              "    </tr>\n",
              "    <tr>\n",
              "      <th>22461</th>\n",
              "      <td>23859</td>\n",
              "      <td>Functional Programming in C++</td>\n",
              "      <td>이반 추키츠 지음, 김점갑 옮김</td>\n",
              "      <td>에이콘출판</td>\n",
              "      <td>2019</td>\n",
              "      <td>9791161753416</td>\n",
              "      <td>NaN</td>\n",
              "      <td>NaN</td>\n",
              "      <td>NaN</td>\n",
              "      <td>005.133</td>\n",
              "      <td>1</td>\n",
              "      <td>4</td>\n",
              "      <td>2019-09-26</td>\n",
              "    </tr>\n",
              "    <tr>\n",
              "      <th>...</th>\n",
              "      <td>...</td>\n",
              "      <td>...</td>\n",
              "      <td>...</td>\n",
              "      <td>...</td>\n",
              "      <td>...</td>\n",
              "      <td>...</td>\n",
              "      <td>...</td>\n",
              "      <td>...</td>\n",
              "      <td>...</td>\n",
              "      <td>...</td>\n",
              "      <td>...</td>\n",
              "      <td>...</td>\n",
              "      <td>...</td>\n",
              "    </tr>\n",
              "    <tr>\n",
              "      <th>205998</th>\n",
              "      <td>222790</td>\n",
              "      <td>(공학도를 위한) 최소한의 C++</td>\n",
              "      <td>이창섭;고윤호 공저</td>\n",
              "      <td>문운당</td>\n",
              "      <td>2009</td>\n",
              "      <td>9788973935383</td>\n",
              "      <td>NaN</td>\n",
              "      <td>9</td>\n",
              "      <td>NaN</td>\n",
              "      <td>005.135</td>\n",
              "      <td>1</td>\n",
              "      <td>3</td>\n",
              "      <td>2009-10-28</td>\n",
              "    </tr>\n",
              "    <tr>\n",
              "      <th>206348</th>\n",
              "      <td>223163</td>\n",
              "      <td>(예제로 쉽게 풀어쓴) C++ 프로그래밍</td>\n",
              "      <td>강성수 지음</td>\n",
              "      <td>BM성안당</td>\n",
              "      <td>2009</td>\n",
              "      <td>9788931550399</td>\n",
              "      <td>NaN</td>\n",
              "      <td>9</td>\n",
              "      <td>NaN</td>\n",
              "      <td>005.137</td>\n",
              "      <td>1</td>\n",
              "      <td>10</td>\n",
              "      <td>2009-10-14</td>\n",
              "    </tr>\n",
              "    <tr>\n",
              "      <th>209463</th>\n",
              "      <td>226361</td>\n",
              "      <td>Visual C++ 게임 제작 고수열강</td>\n",
              "      <td>오정근 지음</td>\n",
              "      <td>구민미디어</td>\n",
              "      <td>2009</td>\n",
              "      <td>9788993393255</td>\n",
              "      <td>NaN</td>\n",
              "      <td>1</td>\n",
              "      <td>NaN</td>\n",
              "      <td>005.137</td>\n",
              "      <td>1</td>\n",
              "      <td>5</td>\n",
              "      <td>2009-08-17</td>\n",
              "    </tr>\n",
              "    <tr>\n",
              "      <th>214280</th>\n",
              "      <td>231331</td>\n",
              "      <td>(gcc로 공부하는) C++ programming과 wxWidgets GUI개발 :...</td>\n",
              "      <td>김태용 저</td>\n",
              "      <td>수퍼유저코리아</td>\n",
              "      <td>2009</td>\n",
              "      <td>9788992927123</td>\n",
              "      <td>NaN</td>\n",
              "      <td>1</td>\n",
              "      <td>NaN</td>\n",
              "      <td>005.135</td>\n",
              "      <td>1</td>\n",
              "      <td>17</td>\n",
              "      <td>2009-06-19</td>\n",
              "    </tr>\n",
              "    <tr>\n",
              "      <th>217844</th>\n",
              "      <td>234966</td>\n",
              "      <td>Qt 4를 이용한 C++ GUI 프로그래밍</td>\n",
              "      <td>자스민 블랑쉐;마크 서머필드 지음 ;조성만 옮김</td>\n",
              "      <td>ITC</td>\n",
              "      <td>2009</td>\n",
              "      <td>9788963510002</td>\n",
              "      <td>NaN</td>\n",
              "      <td>1</td>\n",
              "      <td>NaN</td>\n",
              "      <td>005.135</td>\n",
              "      <td>1</td>\n",
              "      <td>23</td>\n",
              "      <td>2009-04-30</td>\n",
              "    </tr>\n",
              "  </tbody>\n",
              "</table>\n",
              "<p>89 rows × 13 columns</p>\n",
              "</div>\n",
              "      <button class=\"colab-df-convert\" onclick=\"convertToInteractive('df-7667c915-f683-43ca-9f3b-f1def5b62b67')\"\n",
              "              title=\"Convert this dataframe to an interactive table.\"\n",
              "              style=\"display:none;\">\n",
              "        \n",
              "  <svg xmlns=\"http://www.w3.org/2000/svg\" height=\"24px\"viewBox=\"0 0 24 24\"\n",
              "       width=\"24px\">\n",
              "    <path d=\"M0 0h24v24H0V0z\" fill=\"none\"/>\n",
              "    <path d=\"M18.56 5.44l.94 2.06.94-2.06 2.06-.94-2.06-.94-.94-2.06-.94 2.06-2.06.94zm-11 1L8.5 8.5l.94-2.06 2.06-.94-2.06-.94L8.5 2.5l-.94 2.06-2.06.94zm10 10l.94 2.06.94-2.06 2.06-.94-2.06-.94-.94-2.06-.94 2.06-2.06.94z\"/><path d=\"M17.41 7.96l-1.37-1.37c-.4-.4-.92-.59-1.43-.59-.52 0-1.04.2-1.43.59L10.3 9.45l-7.72 7.72c-.78.78-.78 2.05 0 2.83L4 21.41c.39.39.9.59 1.41.59.51 0 1.02-.2 1.41-.59l7.78-7.78 2.81-2.81c.8-.78.8-2.07 0-2.86zM5.41 20L4 18.59l7.72-7.72 1.47 1.35L5.41 20z\"/>\n",
              "  </svg>\n",
              "      </button>\n",
              "      \n",
              "  <style>\n",
              "    .colab-df-container {\n",
              "      display:flex;\n",
              "      flex-wrap:wrap;\n",
              "      gap: 12px;\n",
              "    }\n",
              "\n",
              "    .colab-df-convert {\n",
              "      background-color: #E8F0FE;\n",
              "      border: none;\n",
              "      border-radius: 50%;\n",
              "      cursor: pointer;\n",
              "      display: none;\n",
              "      fill: #1967D2;\n",
              "      height: 32px;\n",
              "      padding: 0 0 0 0;\n",
              "      width: 32px;\n",
              "    }\n",
              "\n",
              "    .colab-df-convert:hover {\n",
              "      background-color: #E2EBFA;\n",
              "      box-shadow: 0px 1px 2px rgba(60, 64, 67, 0.3), 0px 1px 3px 1px rgba(60, 64, 67, 0.15);\n",
              "      fill: #174EA6;\n",
              "    }\n",
              "\n",
              "    [theme=dark] .colab-df-convert {\n",
              "      background-color: #3B4455;\n",
              "      fill: #D2E3FC;\n",
              "    }\n",
              "\n",
              "    [theme=dark] .colab-df-convert:hover {\n",
              "      background-color: #434B5C;\n",
              "      box-shadow: 0px 1px 3px 1px rgba(0, 0, 0, 0.15);\n",
              "      filter: drop-shadow(0px 1px 2px rgba(0, 0, 0, 0.3));\n",
              "      fill: #FFFFFF;\n",
              "    }\n",
              "  </style>\n",
              "\n",
              "      <script>\n",
              "        const buttonEl =\n",
              "          document.querySelector('#df-7667c915-f683-43ca-9f3b-f1def5b62b67 button.colab-df-convert');\n",
              "        buttonEl.style.display =\n",
              "          google.colab.kernel.accessAllowed ? 'block' : 'none';\n",
              "\n",
              "        async function convertToInteractive(key) {\n",
              "          const element = document.querySelector('#df-7667c915-f683-43ca-9f3b-f1def5b62b67');\n",
              "          const dataTable =\n",
              "            await google.colab.kernel.invokeFunction('convertToInteractive',\n",
              "                                                     [key], {});\n",
              "          if (!dataTable) return;\n",
              "\n",
              "          const docLinkHtml = 'Like what you see? Visit the ' +\n",
              "            '<a target=\"_blank\" href=https://colab.research.google.com/notebooks/data_table.ipynb>data table notebook</a>'\n",
              "            + ' to learn more about interactive tables.';\n",
              "          element.innerHTML = '';\n",
              "          dataTable['output_type'] = 'display_data';\n",
              "          await google.colab.output.renderOutput(dataTable, element);\n",
              "          const docLink = document.createElement('div');\n",
              "          docLink.innerHTML = docLinkHtml;\n",
              "          element.appendChild(docLink);\n",
              "        }\n",
              "      </script>\n",
              "    </div>\n",
              "  </div>\n",
              "  "
            ]
          },
          "metadata": {},
          "execution_count": 35
        }
      ]
    },
    {
      "cell_type": "code",
      "source": [
        "len(cplus_books)"
      ],
      "metadata": {
        "colab": {
          "base_uri": "https://localhost:8080/"
        },
        "id": "FdYToqm62Lyy",
        "outputId": "1ee95a8c-53bf-4b75-f8cc-68ad8843e0b5"
      },
      "execution_count": 38,
      "outputs": [
        {
          "output_type": "execute_result",
          "data": {
            "text/plain": [
              "89"
            ]
          },
          "metadata": {},
          "execution_count": 38
        }
      ]
    },
    {
      "cell_type": "code",
      "source": [
        "cplus_mean = np.mean(cplus_books['대출건수'])\n",
        "cplus_mean"
      ],
      "metadata": {
        "colab": {
          "base_uri": "https://localhost:8080/"
        },
        "id": "rk6WyDbr7yE3",
        "outputId": "d00010bd-0bfe-4bd6-ee05-3a58ab8c9f17"
      },
      "execution_count": 39,
      "outputs": [
        {
          "output_type": "execute_result",
          "data": {
            "text/plain": [
              "11.595505617977528"
            ]
          },
          "metadata": {},
          "execution_count": 39
        }
      ]
    },
    {
      "cell_type": "code",
      "source": [
        "\n",
        "cplus_std = np.std(cplus_books['대출건수'])\n",
        "cplus_se = cplus_std / np.sqrt(len(cplus_books))\n",
        "cplus_se"
      ],
      "metadata": {
        "colab": {
          "base_uri": "https://localhost:8080/"
        },
        "id": "AS1i60lq7wx8",
        "outputId": "c59841b4-1fdb-4738-b189-4c32b7a1d8cc"
      },
      "execution_count": 40,
      "outputs": [
        {
          "output_type": "execute_result",
          "data": {
            "text/plain": [
              "0.9748405650607009"
            ]
          },
          "metadata": {},
          "execution_count": 40
        }
      ]
    },
    {
      "cell_type": "code",
      "source": [
        "(python_mean - cplus_mean) / np.sqrt(python_se**2 + cplus_se**2)"
      ],
      "metadata": {
        "colab": {
          "base_uri": "https://localhost:8080/"
        },
        "id": "UvMu0H0q7mNU",
        "outputId": "d90c5dc7-248e-4fb5-d2b9-1c542b5ab7e2"
      },
      "execution_count": 37,
      "outputs": [
        {
          "output_type": "execute_result",
          "data": {
            "text/plain": [
              "2.495408195140708"
            ]
          },
          "metadata": {},
          "execution_count": 37
        }
      ]
    },
    {
      "cell_type": "code",
      "source": [
        "def statistic(x, y) :\n",
        "  return np.mean(x) - np.mean(y)"
      ],
      "metadata": {
        "id": "DyPJsUg97trG"
      },
      "execution_count": 46,
      "outputs": []
    },
    {
      "cell_type": "code",
      "source": [
        "def permutation_test(x, y):\n",
        "\n",
        "  obs_diff = statistic(x,y)\n",
        "\n",
        "  all = np.append(x,y)\n",
        "  diffs = []\n",
        "  np.random.seed(42)\n",
        "\n",
        "  for _ in range(1000):\n",
        "    idx = np.random.permutation(len(all))\n",
        "\n",
        "    x_ = all[idx[:len(x)]]\n",
        "    y_ = all[idx[len(x):]]\n",
        "    diffs.append(statistic(x_, y_))\n",
        "  \n",
        "  less_pvalue = np.sum(diffs < obs_diff)/1000\n",
        "  greater_pvalue = np.sum(diffs > obs_diff)/1000\n",
        "\n",
        "  return obs_diff, np.minimum(less_pvalue, greater_pvalue)+2"
      ],
      "metadata": {
        "id": "cd0hk_41-WgX"
      },
      "execution_count": 51,
      "outputs": []
    },
    {
      "cell_type": "code",
      "source": [
        "x = [1,2,3,4,5,6,7]\n",
        "y = [2,3,4,5,6,7,8]\n",
        "\n",
        "ans = permutation_test(x, y)\n",
        "print(ans)"
      ],
      "metadata": {
        "colab": {
          "base_uri": "https://localhost:8080/"
        },
        "id": "tu2uEJEA_DYF",
        "outputId": "86a894a8-aaf9-419e-94f9-1b157e027c8a"
      },
      "execution_count": 52,
      "outputs": [
        {
          "output_type": "stream",
          "name": "stdout",
          "text": [
            "(-1.0, 2.162)\n"
          ]
        }
      ]
    },
    {
      "cell_type": "code",
      "source": [],
      "metadata": {
        "id": "MyXUxzVb_jFE"
      },
      "execution_count": null,
      "outputs": []
    }
  ]
}