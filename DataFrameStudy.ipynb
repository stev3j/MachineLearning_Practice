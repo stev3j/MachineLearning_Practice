{
  "nbformat": 4,
  "nbformat_minor": 0,
  "metadata": {
    "colab": {
      "provenance": [],
      "authorship_tag": "ABX9TyP5Hzd/BaGvf9EnHWrqvrbJ",
      "include_colab_link": true
    },
    "kernelspec": {
      "name": "python3",
      "display_name": "Python 3"
    },
    "language_info": {
      "name": "python"
    }
  },
  "cells": [
    {
      "cell_type": "markdown",
      "metadata": {
        "id": "view-in-github",
        "colab_type": "text"
      },
      "source": [
        "<a href=\"https://colab.research.google.com/github/stev3j/MachineLearning_Practice/blob/main/DataFrameStudy.ipynb\" target=\"_parent\"><img src=\"https://colab.research.google.com/assets/colab-badge.svg\" alt=\"Open In Colab\"/></a>"
      ]
    },
    {
      "cell_type": "code",
      "execution_count": null,
      "metadata": {
        "id": "otzWrJbDd8Ne"
      },
      "outputs": [],
      "source": [
        "import gdown # download 해주는 라이브러리\n",
        "\n",
        "gdown.download('https://bit.ly/3RhoNho', 'ns_202104.csv', quiet=False)"
      ]
    },
    {
      "cell_type": "code",
      "source": [
        "import pandas as pd\n",
        "\n",
        "ns_df = pd.read_csv('ns_202104.csv', low_memory=False) # 표로 가져오기\n",
        "ns_df.head()"
      ],
      "metadata": {
        "id": "sbWORUkOeIkW"
      },
      "execution_count": null,
      "outputs": []
    },
    {
      "cell_type": "code",
      "source": [
        "ns_book = ns_df.loc[:, '번호':'등록일자'] # 번호부터 등록일자 까지만 저장하기\n",
        "ns_book.head()"
      ],
      "metadata": {
        "id": "8yDi7EcVeVvz"
      },
      "execution_count": null,
      "outputs": []
    },
    {
      "cell_type": "code",
      "source": [
        "ns_df.columns"
      ],
      "metadata": {
        "id": "chM6Y6hLfPlr"
      },
      "execution_count": null,
      "outputs": []
    },
    {
      "cell_type": "code",
      "source": [
        "ns_df.columns != 'Unnamed: 13'"
      ],
      "metadata": {
        "id": "6VDjx0iffmMW"
      },
      "execution_count": null,
      "outputs": []
    },
    {
      "cell_type": "code",
      "source": [
        "selected_columns = ns_df.columns != 'Unnamed: 13'\n",
        "ns_book = ns_df.loc[:, selected_columns] # True인 열만 ns_book에 대입, loc: 필터\n",
        "ns_book.head()"
      ],
      "metadata": {
        "id": "N25Wcakdgu7u"
      },
      "execution_count": null,
      "outputs": []
    },
    {
      "cell_type": "code",
      "source": [
        "selected_columns = (ns_df.columns != '부가기호') & (ns_df.columns != 'Unnamed: 13')\n",
        "ns_book = ns_df.loc[:, selected_columns] # True인 열만 ns_book에 대입, loc: 필터\n",
        "ns_book.head()"
      ],
      "metadata": {
        "id": "SAp7WA1AhY4U"
      },
      "execution_count": null,
      "outputs": []
    },
    {
      "cell_type": "code",
      "source": [
        "ns_book = ns_df.drop('Unnamed: 13', axis=1) # 열 지우기\n",
        "ns_book.head()"
      ],
      "metadata": {
        "id": "QaDAre3Rh_XN"
      },
      "execution_count": null,
      "outputs": []
    },
    {
      "cell_type": "code",
      "source": [
        "ns_book = ns_df.drop(['부가기호', 'Unnamed: 13'], axis=1) # 2개의 열 지우기\n",
        "ns_book.head()"
      ],
      "metadata": {
        "id": "DpYfQVhEjVL7"
      },
      "execution_count": null,
      "outputs": []
    },
    {
      "cell_type": "code",
      "source": [
        "ns_book = ns_df.dropna(axis=1) # Nan이 하나 이상 포함된 열을 삭제함\n",
        "ns_book.head()"
      ],
      "metadata": {
        "id": "1FlIonwRj6kz"
      },
      "execution_count": null,
      "outputs": []
    },
    {
      "cell_type": "code",
      "source": [
        "ns_book = ns_df.dropna(axis=1, how='all') # 모든 값이 Nan인 열만 삭제함\n",
        "ns_book.head()"
      ],
      "metadata": {
        "id": "OUvc7k1xk4_u"
      },
      "execution_count": null,
      "outputs": []
    },
    {
      "cell_type": "code",
      "source": [
        "ns_book2 = ns_book.drop([0,1]) # 인덱스 0, 1 행을 삭제함\n",
        "ns_book2.head()"
      ],
      "metadata": {
        "id": "k1CzyyQelhyW"
      },
      "execution_count": null,
      "outputs": []
    },
    {
      "cell_type": "code",
      "source": [
        "ns_book2 = ns_book[2:] # 2부터 끝까지 ns_book2에 저장\n",
        "ns_book2.head()"
      ],
      "metadata": {
        "id": "w2mvKo-Al2Aj"
      },
      "execution_count": null,
      "outputs": []
    },
    {
      "cell_type": "code",
      "source": [
        "selected_rows = ns_df['출판사'] == '한빛미디어'\n",
        "selected_rows # False or True\n",
        "\n",
        "ns_book2 = ns_book[selected_rows] # True인 행만 ns_book2에 저장\n",
        "ns_book2.head()"
      ],
      "metadata": {
        "colab": {
          "base_uri": "https://localhost:8080/",
          "height": 354
        },
        "id": "qV1-rJVqmNRf",
        "outputId": "d7e3e7eb-0c22-4eee-8fc4-e36912457a1f"
      },
      "execution_count": 38,
      "outputs": [
        {
          "output_type": "execute_result",
          "data": {
            "text/plain": [
              "      번호                                                도서명  \\\n",
              "60    61       (맛있는 디자인)프리미어 프로 CC: 쉽게 배워 제대로 써먹는 유튜브 영상 편집   \n",
              "70    71         처음 배우는 애저 (Azure Portal로 배우는 애저 도입부터 활용까지)   \n",
              "88    89  맛있는 디자인 프리미어 프로 CC 2021 - 쉽게 배워 제대로 써먹는 유튜브 영상 편집   \n",
              "156  157                    실전 보고서 작성 기술 with 파워포인트, 워드, 한글   \n",
              "198  199                                    처음 배우는 리액트 네이티브   \n",
              "\n",
              "                           저자    출판사  발행년도           ISBN 세트 ISBN 부가기호     권  \\\n",
              "60         정지원,심수진,윤성우,김덕영 지음  한빛미디어  2021  9791162244029     NaN    1  2021   \n",
              "70                        김도균  한빛미디어  2020  9791162243695     NaN  NaN   NaN   \n",
              "88   정지원, 심수진, 윤성우, 김덕영 (지은이)  한빛미디어  2021  9791162244029     NaN  NaN   NaN   \n",
              "156                    홍장표 지음  한빛미디어  2020  9791162243763     NaN  NaN   NaN   \n",
              "198                    김범준 지음  한빛미디어  2021  9791162243879     NaN  NaN   NaN   \n",
              "\n",
              "      주제분류번호  도서권수  대출건수        등록일자  \n",
              "60   005.567     1     1  2021-03-15  \n",
              "70    005.74     1     1  2021-03-15  \n",
              "88       NaN     0     0  2021-03-15  \n",
              "156      NaN     1     0  2021-03-12  \n",
              "198      NaN     1     0  2021-03-12  "
            ],
            "text/html": [
              "\n",
              "  <div id=\"df-55d3d558-d161-46c0-ae94-c76ba9c77ebd\">\n",
              "    <div class=\"colab-df-container\">\n",
              "      <div>\n",
              "<style scoped>\n",
              "    .dataframe tbody tr th:only-of-type {\n",
              "        vertical-align: middle;\n",
              "    }\n",
              "\n",
              "    .dataframe tbody tr th {\n",
              "        vertical-align: top;\n",
              "    }\n",
              "\n",
              "    .dataframe thead th {\n",
              "        text-align: right;\n",
              "    }\n",
              "</style>\n",
              "<table border=\"1\" class=\"dataframe\">\n",
              "  <thead>\n",
              "    <tr style=\"text-align: right;\">\n",
              "      <th></th>\n",
              "      <th>번호</th>\n",
              "      <th>도서명</th>\n",
              "      <th>저자</th>\n",
              "      <th>출판사</th>\n",
              "      <th>발행년도</th>\n",
              "      <th>ISBN</th>\n",
              "      <th>세트 ISBN</th>\n",
              "      <th>부가기호</th>\n",
              "      <th>권</th>\n",
              "      <th>주제분류번호</th>\n",
              "      <th>도서권수</th>\n",
              "      <th>대출건수</th>\n",
              "      <th>등록일자</th>\n",
              "    </tr>\n",
              "  </thead>\n",
              "  <tbody>\n",
              "    <tr>\n",
              "      <th>60</th>\n",
              "      <td>61</td>\n",
              "      <td>(맛있는 디자인)프리미어 프로 CC: 쉽게 배워 제대로 써먹는 유튜브 영상 편집</td>\n",
              "      <td>정지원,심수진,윤성우,김덕영 지음</td>\n",
              "      <td>한빛미디어</td>\n",
              "      <td>2021</td>\n",
              "      <td>9791162244029</td>\n",
              "      <td>NaN</td>\n",
              "      <td>1</td>\n",
              "      <td>2021</td>\n",
              "      <td>005.567</td>\n",
              "      <td>1</td>\n",
              "      <td>1</td>\n",
              "      <td>2021-03-15</td>\n",
              "    </tr>\n",
              "    <tr>\n",
              "      <th>70</th>\n",
              "      <td>71</td>\n",
              "      <td>처음 배우는 애저 (Azure Portal로 배우는 애저 도입부터 활용까지)</td>\n",
              "      <td>김도균</td>\n",
              "      <td>한빛미디어</td>\n",
              "      <td>2020</td>\n",
              "      <td>9791162243695</td>\n",
              "      <td>NaN</td>\n",
              "      <td>NaN</td>\n",
              "      <td>NaN</td>\n",
              "      <td>005.74</td>\n",
              "      <td>1</td>\n",
              "      <td>1</td>\n",
              "      <td>2021-03-15</td>\n",
              "    </tr>\n",
              "    <tr>\n",
              "      <th>88</th>\n",
              "      <td>89</td>\n",
              "      <td>맛있는 디자인 프리미어 프로 CC 2021 - 쉽게 배워 제대로 써먹는 유튜브 영상 편집</td>\n",
              "      <td>정지원, 심수진, 윤성우, 김덕영 (지은이)</td>\n",
              "      <td>한빛미디어</td>\n",
              "      <td>2021</td>\n",
              "      <td>9791162244029</td>\n",
              "      <td>NaN</td>\n",
              "      <td>NaN</td>\n",
              "      <td>NaN</td>\n",
              "      <td>NaN</td>\n",
              "      <td>0</td>\n",
              "      <td>0</td>\n",
              "      <td>2021-03-15</td>\n",
              "    </tr>\n",
              "    <tr>\n",
              "      <th>156</th>\n",
              "      <td>157</td>\n",
              "      <td>실전 보고서 작성 기술 with 파워포인트, 워드, 한글</td>\n",
              "      <td>홍장표 지음</td>\n",
              "      <td>한빛미디어</td>\n",
              "      <td>2020</td>\n",
              "      <td>9791162243763</td>\n",
              "      <td>NaN</td>\n",
              "      <td>NaN</td>\n",
              "      <td>NaN</td>\n",
              "      <td>NaN</td>\n",
              "      <td>1</td>\n",
              "      <td>0</td>\n",
              "      <td>2021-03-12</td>\n",
              "    </tr>\n",
              "    <tr>\n",
              "      <th>198</th>\n",
              "      <td>199</td>\n",
              "      <td>처음 배우는 리액트 네이티브</td>\n",
              "      <td>김범준 지음</td>\n",
              "      <td>한빛미디어</td>\n",
              "      <td>2021</td>\n",
              "      <td>9791162243879</td>\n",
              "      <td>NaN</td>\n",
              "      <td>NaN</td>\n",
              "      <td>NaN</td>\n",
              "      <td>NaN</td>\n",
              "      <td>1</td>\n",
              "      <td>0</td>\n",
              "      <td>2021-03-12</td>\n",
              "    </tr>\n",
              "  </tbody>\n",
              "</table>\n",
              "</div>\n",
              "      <button class=\"colab-df-convert\" onclick=\"convertToInteractive('df-55d3d558-d161-46c0-ae94-c76ba9c77ebd')\"\n",
              "              title=\"Convert this dataframe to an interactive table.\"\n",
              "              style=\"display:none;\">\n",
              "        \n",
              "  <svg xmlns=\"http://www.w3.org/2000/svg\" height=\"24px\"viewBox=\"0 0 24 24\"\n",
              "       width=\"24px\">\n",
              "    <path d=\"M0 0h24v24H0V0z\" fill=\"none\"/>\n",
              "    <path d=\"M18.56 5.44l.94 2.06.94-2.06 2.06-.94-2.06-.94-.94-2.06-.94 2.06-2.06.94zm-11 1L8.5 8.5l.94-2.06 2.06-.94-2.06-.94L8.5 2.5l-.94 2.06-2.06.94zm10 10l.94 2.06.94-2.06 2.06-.94-2.06-.94-.94-2.06-.94 2.06-2.06.94z\"/><path d=\"M17.41 7.96l-1.37-1.37c-.4-.4-.92-.59-1.43-.59-.52 0-1.04.2-1.43.59L10.3 9.45l-7.72 7.72c-.78.78-.78 2.05 0 2.83L4 21.41c.39.39.9.59 1.41.59.51 0 1.02-.2 1.41-.59l7.78-7.78 2.81-2.81c.8-.78.8-2.07 0-2.86zM5.41 20L4 18.59l7.72-7.72 1.47 1.35L5.41 20z\"/>\n",
              "  </svg>\n",
              "      </button>\n",
              "      \n",
              "  <style>\n",
              "    .colab-df-container {\n",
              "      display:flex;\n",
              "      flex-wrap:wrap;\n",
              "      gap: 12px;\n",
              "    }\n",
              "\n",
              "    .colab-df-convert {\n",
              "      background-color: #E8F0FE;\n",
              "      border: none;\n",
              "      border-radius: 50%;\n",
              "      cursor: pointer;\n",
              "      display: none;\n",
              "      fill: #1967D2;\n",
              "      height: 32px;\n",
              "      padding: 0 0 0 0;\n",
              "      width: 32px;\n",
              "    }\n",
              "\n",
              "    .colab-df-convert:hover {\n",
              "      background-color: #E2EBFA;\n",
              "      box-shadow: 0px 1px 2px rgba(60, 64, 67, 0.3), 0px 1px 3px 1px rgba(60, 64, 67, 0.15);\n",
              "      fill: #174EA6;\n",
              "    }\n",
              "\n",
              "    [theme=dark] .colab-df-convert {\n",
              "      background-color: #3B4455;\n",
              "      fill: #D2E3FC;\n",
              "    }\n",
              "\n",
              "    [theme=dark] .colab-df-convert:hover {\n",
              "      background-color: #434B5C;\n",
              "      box-shadow: 0px 1px 3px 1px rgba(0, 0, 0, 0.15);\n",
              "      filter: drop-shadow(0px 1px 2px rgba(0, 0, 0, 0.3));\n",
              "      fill: #FFFFFF;\n",
              "    }\n",
              "  </style>\n",
              "\n",
              "      <script>\n",
              "        const buttonEl =\n",
              "          document.querySelector('#df-55d3d558-d161-46c0-ae94-c76ba9c77ebd button.colab-df-convert');\n",
              "        buttonEl.style.display =\n",
              "          google.colab.kernel.accessAllowed ? 'block' : 'none';\n",
              "\n",
              "        async function convertToInteractive(key) {\n",
              "          const element = document.querySelector('#df-55d3d558-d161-46c0-ae94-c76ba9c77ebd');\n",
              "          const dataTable =\n",
              "            await google.colab.kernel.invokeFunction('convertToInteractive',\n",
              "                                                     [key], {});\n",
              "          if (!dataTable) return;\n",
              "\n",
              "          const docLinkHtml = 'Like what you see? Visit the ' +\n",
              "            '<a target=\"_blank\" href=https://colab.research.google.com/notebooks/data_table.ipynb>data table notebook</a>'\n",
              "            + ' to learn more about interactive tables.';\n",
              "          element.innerHTML = '';\n",
              "          dataTable['output_type'] = 'display_data';\n",
              "          await google.colab.output.renderOutput(dataTable, element);\n",
              "          const docLink = document.createElement('div');\n",
              "          docLink.innerHTML = docLinkHtml;\n",
              "          element.appendChild(docLink);\n",
              "        }\n",
              "      </script>\n",
              "    </div>\n",
              "  </div>\n",
              "  "
            ]
          },
          "metadata": {},
          "execution_count": 38
        }
      ]
    },
    {
      "cell_type": "code",
      "source": [
        "sum(ns_book.duplicated()) # 중복된 값이 있다면 +1됨, 아무것도 없다면 0"
      ],
      "metadata": {
        "colab": {
          "base_uri": "https://localhost:8080/"
        },
        "id": "ZRpjeMYPnSBJ",
        "outputId": "f5ca080f-a34f-4c00-d3e6-137a0a18190a"
      },
      "execution_count": 39,
      "outputs": [
        {
          "output_type": "execute_result",
          "data": {
            "text/plain": [
              "0"
            ]
          },
          "metadata": {},
          "execution_count": 39
        }
      ]
    },
    {
      "cell_type": "code",
      "source": [
        "sum(ns_book.duplicated(subset=['도서명', '저자', 'ISBN']))"
      ],
      "metadata": {
        "colab": {
          "base_uri": "https://localhost:8080/"
        },
        "id": "WXoRovVxrZTi",
        "outputId": "51151820-bd2a-458a-c064-9de8010e2c6c"
      },
      "execution_count": 40,
      "outputs": [
        {
          "output_type": "execute_result",
          "data": {
            "text/plain": [
              "22096"
            ]
          },
          "metadata": {},
          "execution_count": 40
        }
      ]
    },
    {
      "cell_type": "code",
      "source": [
        "dup_rows = ns_book.duplicated(subset=['도서명', '저자', 'ISBN'], keep=False)\n",
        "ns_book3 = ns_book[dup_rows]\n",
        "ns_book3.head()"
      ],
      "metadata": {
        "id": "-FIt5Lfcri_2"
      },
      "execution_count": null,
      "outputs": []
    },
    {
      "cell_type": "code",
      "source": [
        "count_df = ns_book[['도서명', '저자', 'ISBN', '권', '대출건수']]"
      ],
      "metadata": {
        "id": "wj8khXL_r7r5"
      },
      "execution_count": 42,
      "outputs": []
    },
    {
      "cell_type": "code",
      "source": [
        "group_df = count_df.groupby(by=['도서명', '저자', 'ISBN', '권'], dropna=False)\n",
        "loan_count = group_df.sum()"
      ],
      "metadata": {
        "id": "adXuyxWsug79"
      },
      "execution_count": 43,
      "outputs": []
    },
    {
      "cell_type": "code",
      "source": [
        "loan_count"
      ],
      "metadata": {
        "id": "YmgO0dNcutQK"
      },
      "execution_count": null,
      "outputs": []
    },
    {
      "cell_type": "code",
      "source": [
        "dup_rows = ns_book.duplicated(subset=['도서명', '저자', 'ISBN', '권'])\n",
        "unique_rows = ~dup_rows\n",
        "ns_book3 = ns_book[unique_rows].copy()"
      ],
      "metadata": {
        "id": "aw9zXi-7uuvD"
      },
      "execution_count": 47,
      "outputs": []
    },
    {
      "cell_type": "code",
      "source": [
        "sum(ns_book3.duplicated(subset=['도서명', '저자', 'ISBN', '권']))"
      ],
      "metadata": {
        "colab": {
          "base_uri": "https://localhost:8080/"
        },
        "id": "Xw-dRDdkx4zR",
        "outputId": "19ab6224-e8ae-4524-8571-80f349359687"
      },
      "execution_count": 49,
      "outputs": [
        {
          "output_type": "execute_result",
          "data": {
            "text/plain": [
              "0"
            ]
          },
          "metadata": {},
          "execution_count": 49
        }
      ]
    },
    {
      "cell_type": "code",
      "source": [
        "ns_book3.set_index(['도서명', '저자', 'ISBN', '권'], inplace=True)\n",
        "ns_book3.head()"
      ],
      "metadata": {
        "colab": {
          "base_uri": "https://localhost:8080/",
          "height": 385
        },
        "id": "te5cby8byAem",
        "outputId": "1b0760f7-60ab-4530-c8c5-25447f20b92d"
      },
      "execution_count": 50,
      "outputs": [
        {
          "output_type": "execute_result",
          "data": {
            "text/plain": [
              "                                                          번호    출판사  발행년도  \\\n",
              "도서명                   저자               ISBN          권                      \n",
              "인공지능과 흙               김동훈 지음           9788937444319 NaN   1    민음사  2021   \n",
              "가짜 행복 권하는 사회          김태형 지음           9791190123969 NaN   2   갈매나무  2021   \n",
              "나도 한 문장 잘 쓰면 바랄 게 없겠네 김선영 지음           9788968332982 NaN   3   블랙피쉬  2021   \n",
              "예루살렘 해변               이도 게펜 지음, 임재희 옮김 9788970759906 NaN   4  문학세계사  2021   \n",
              "김성곤의 중국한시기행 : 장강·황하 편 김성곤 지음           9788934990833 NaN   5    김영사  2021   \n",
              "\n",
              "                                                         세트 ISBN 부가기호 주제분류번호  \\\n",
              "도서명                   저자               ISBN          권                         \n",
              "인공지능과 흙               김동훈 지음           9788937444319 NaN     NaN  NaN    NaN   \n",
              "가짜 행복 권하는 사회          김태형 지음           9791190123969 NaN     NaN  NaN    NaN   \n",
              "나도 한 문장 잘 쓰면 바랄 게 없겠네 김선영 지음           9788968332982 NaN     NaN  NaN    NaN   \n",
              "예루살렘 해변               이도 게펜 지음, 임재희 옮김 9788970759906 NaN     NaN  NaN    NaN   \n",
              "김성곤의 중국한시기행 : 장강·황하 편 김성곤 지음           9788934990833 NaN     NaN  NaN    NaN   \n",
              "\n",
              "                                                          도서권수  대출건수  \\\n",
              "도서명                   저자               ISBN          권                 \n",
              "인공지능과 흙               김동훈 지음           9788937444319 NaN     1     0   \n",
              "가짜 행복 권하는 사회          김태형 지음           9791190123969 NaN     1     0   \n",
              "나도 한 문장 잘 쓰면 바랄 게 없겠네 김선영 지음           9788968332982 NaN     1     0   \n",
              "예루살렘 해변               이도 게펜 지음, 임재희 옮김 9788970759906 NaN     1     0   \n",
              "김성곤의 중국한시기행 : 장강·황하 편 김성곤 지음           9788934990833 NaN     1     0   \n",
              "\n",
              "                                                                등록일자  \n",
              "도서명                   저자               ISBN          권                \n",
              "인공지능과 흙               김동훈 지음           9788937444319 NaN  2021-03-19  \n",
              "가짜 행복 권하는 사회          김태형 지음           9791190123969 NaN  2021-03-19  \n",
              "나도 한 문장 잘 쓰면 바랄 게 없겠네 김선영 지음           9788968332982 NaN  2021-03-19  \n",
              "예루살렘 해변               이도 게펜 지음, 임재희 옮김 9788970759906 NaN  2021-03-19  \n",
              "김성곤의 중국한시기행 : 장강·황하 편 김성곤 지음           9788934990833 NaN  2021-03-19  "
            ],
            "text/html": [
              "\n",
              "  <div id=\"df-c533bd45-4fa1-4ff6-acec-91c476fac995\">\n",
              "    <div class=\"colab-df-container\">\n",
              "      <div>\n",
              "<style scoped>\n",
              "    .dataframe tbody tr th:only-of-type {\n",
              "        vertical-align: middle;\n",
              "    }\n",
              "\n",
              "    .dataframe tbody tr th {\n",
              "        vertical-align: top;\n",
              "    }\n",
              "\n",
              "    .dataframe thead th {\n",
              "        text-align: right;\n",
              "    }\n",
              "</style>\n",
              "<table border=\"1\" class=\"dataframe\">\n",
              "  <thead>\n",
              "    <tr style=\"text-align: right;\">\n",
              "      <th></th>\n",
              "      <th></th>\n",
              "      <th></th>\n",
              "      <th></th>\n",
              "      <th>번호</th>\n",
              "      <th>출판사</th>\n",
              "      <th>발행년도</th>\n",
              "      <th>세트 ISBN</th>\n",
              "      <th>부가기호</th>\n",
              "      <th>주제분류번호</th>\n",
              "      <th>도서권수</th>\n",
              "      <th>대출건수</th>\n",
              "      <th>등록일자</th>\n",
              "    </tr>\n",
              "    <tr>\n",
              "      <th>도서명</th>\n",
              "      <th>저자</th>\n",
              "      <th>ISBN</th>\n",
              "      <th>권</th>\n",
              "      <th></th>\n",
              "      <th></th>\n",
              "      <th></th>\n",
              "      <th></th>\n",
              "      <th></th>\n",
              "      <th></th>\n",
              "      <th></th>\n",
              "      <th></th>\n",
              "      <th></th>\n",
              "    </tr>\n",
              "  </thead>\n",
              "  <tbody>\n",
              "    <tr>\n",
              "      <th>인공지능과 흙</th>\n",
              "      <th>김동훈 지음</th>\n",
              "      <th>9788937444319</th>\n",
              "      <th>NaN</th>\n",
              "      <td>1</td>\n",
              "      <td>민음사</td>\n",
              "      <td>2021</td>\n",
              "      <td>NaN</td>\n",
              "      <td>NaN</td>\n",
              "      <td>NaN</td>\n",
              "      <td>1</td>\n",
              "      <td>0</td>\n",
              "      <td>2021-03-19</td>\n",
              "    </tr>\n",
              "    <tr>\n",
              "      <th>가짜 행복 권하는 사회</th>\n",
              "      <th>김태형 지음</th>\n",
              "      <th>9791190123969</th>\n",
              "      <th>NaN</th>\n",
              "      <td>2</td>\n",
              "      <td>갈매나무</td>\n",
              "      <td>2021</td>\n",
              "      <td>NaN</td>\n",
              "      <td>NaN</td>\n",
              "      <td>NaN</td>\n",
              "      <td>1</td>\n",
              "      <td>0</td>\n",
              "      <td>2021-03-19</td>\n",
              "    </tr>\n",
              "    <tr>\n",
              "      <th>나도 한 문장 잘 쓰면 바랄 게 없겠네</th>\n",
              "      <th>김선영 지음</th>\n",
              "      <th>9788968332982</th>\n",
              "      <th>NaN</th>\n",
              "      <td>3</td>\n",
              "      <td>블랙피쉬</td>\n",
              "      <td>2021</td>\n",
              "      <td>NaN</td>\n",
              "      <td>NaN</td>\n",
              "      <td>NaN</td>\n",
              "      <td>1</td>\n",
              "      <td>0</td>\n",
              "      <td>2021-03-19</td>\n",
              "    </tr>\n",
              "    <tr>\n",
              "      <th>예루살렘 해변</th>\n",
              "      <th>이도 게펜 지음, 임재희 옮김</th>\n",
              "      <th>9788970759906</th>\n",
              "      <th>NaN</th>\n",
              "      <td>4</td>\n",
              "      <td>문학세계사</td>\n",
              "      <td>2021</td>\n",
              "      <td>NaN</td>\n",
              "      <td>NaN</td>\n",
              "      <td>NaN</td>\n",
              "      <td>1</td>\n",
              "      <td>0</td>\n",
              "      <td>2021-03-19</td>\n",
              "    </tr>\n",
              "    <tr>\n",
              "      <th>김성곤의 중국한시기행 : 장강·황하 편</th>\n",
              "      <th>김성곤 지음</th>\n",
              "      <th>9788934990833</th>\n",
              "      <th>NaN</th>\n",
              "      <td>5</td>\n",
              "      <td>김영사</td>\n",
              "      <td>2021</td>\n",
              "      <td>NaN</td>\n",
              "      <td>NaN</td>\n",
              "      <td>NaN</td>\n",
              "      <td>1</td>\n",
              "      <td>0</td>\n",
              "      <td>2021-03-19</td>\n",
              "    </tr>\n",
              "  </tbody>\n",
              "</table>\n",
              "</div>\n",
              "      <button class=\"colab-df-convert\" onclick=\"convertToInteractive('df-c533bd45-4fa1-4ff6-acec-91c476fac995')\"\n",
              "              title=\"Convert this dataframe to an interactive table.\"\n",
              "              style=\"display:none;\">\n",
              "        \n",
              "  <svg xmlns=\"http://www.w3.org/2000/svg\" height=\"24px\"viewBox=\"0 0 24 24\"\n",
              "       width=\"24px\">\n",
              "    <path d=\"M0 0h24v24H0V0z\" fill=\"none\"/>\n",
              "    <path d=\"M18.56 5.44l.94 2.06.94-2.06 2.06-.94-2.06-.94-.94-2.06-.94 2.06-2.06.94zm-11 1L8.5 8.5l.94-2.06 2.06-.94-2.06-.94L8.5 2.5l-.94 2.06-2.06.94zm10 10l.94 2.06.94-2.06 2.06-.94-2.06-.94-.94-2.06-.94 2.06-2.06.94z\"/><path d=\"M17.41 7.96l-1.37-1.37c-.4-.4-.92-.59-1.43-.59-.52 0-1.04.2-1.43.59L10.3 9.45l-7.72 7.72c-.78.78-.78 2.05 0 2.83L4 21.41c.39.39.9.59 1.41.59.51 0 1.02-.2 1.41-.59l7.78-7.78 2.81-2.81c.8-.78.8-2.07 0-2.86zM5.41 20L4 18.59l7.72-7.72 1.47 1.35L5.41 20z\"/>\n",
              "  </svg>\n",
              "      </button>\n",
              "      \n",
              "  <style>\n",
              "    .colab-df-container {\n",
              "      display:flex;\n",
              "      flex-wrap:wrap;\n",
              "      gap: 12px;\n",
              "    }\n",
              "\n",
              "    .colab-df-convert {\n",
              "      background-color: #E8F0FE;\n",
              "      border: none;\n",
              "      border-radius: 50%;\n",
              "      cursor: pointer;\n",
              "      display: none;\n",
              "      fill: #1967D2;\n",
              "      height: 32px;\n",
              "      padding: 0 0 0 0;\n",
              "      width: 32px;\n",
              "    }\n",
              "\n",
              "    .colab-df-convert:hover {\n",
              "      background-color: #E2EBFA;\n",
              "      box-shadow: 0px 1px 2px rgba(60, 64, 67, 0.3), 0px 1px 3px 1px rgba(60, 64, 67, 0.15);\n",
              "      fill: #174EA6;\n",
              "    }\n",
              "\n",
              "    [theme=dark] .colab-df-convert {\n",
              "      background-color: #3B4455;\n",
              "      fill: #D2E3FC;\n",
              "    }\n",
              "\n",
              "    [theme=dark] .colab-df-convert:hover {\n",
              "      background-color: #434B5C;\n",
              "      box-shadow: 0px 1px 3px 1px rgba(0, 0, 0, 0.15);\n",
              "      filter: drop-shadow(0px 1px 2px rgba(0, 0, 0, 0.3));\n",
              "      fill: #FFFFFF;\n",
              "    }\n",
              "  </style>\n",
              "\n",
              "      <script>\n",
              "        const buttonEl =\n",
              "          document.querySelector('#df-c533bd45-4fa1-4ff6-acec-91c476fac995 button.colab-df-convert');\n",
              "        buttonEl.style.display =\n",
              "          google.colab.kernel.accessAllowed ? 'block' : 'none';\n",
              "\n",
              "        async function convertToInteractive(key) {\n",
              "          const element = document.querySelector('#df-c533bd45-4fa1-4ff6-acec-91c476fac995');\n",
              "          const dataTable =\n",
              "            await google.colab.kernel.invokeFunction('convertToInteractive',\n",
              "                                                     [key], {});\n",
              "          if (!dataTable) return;\n",
              "\n",
              "          const docLinkHtml = 'Like what you see? Visit the ' +\n",
              "            '<a target=\"_blank\" href=https://colab.research.google.com/notebooks/data_table.ipynb>data table notebook</a>'\n",
              "            + ' to learn more about interactive tables.';\n",
              "          element.innerHTML = '';\n",
              "          dataTable['output_type'] = 'display_data';\n",
              "          await google.colab.output.renderOutput(dataTable, element);\n",
              "          const docLink = document.createElement('div');\n",
              "          docLink.innerHTML = docLinkHtml;\n",
              "          element.appendChild(docLink);\n",
              "        }\n",
              "      </script>\n",
              "    </div>\n",
              "  </div>\n",
              "  "
            ]
          },
          "metadata": {},
          "execution_count": 50
        }
      ]
    },
    {
      "cell_type": "code",
      "source": [],
      "metadata": {
        "id": "QinLS9vn0DsA"
      },
      "execution_count": null,
      "outputs": []
    }
  ]
}