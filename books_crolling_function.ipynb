{
  "nbformat": 4,
  "nbformat_minor": 0,
  "metadata": {
    "colab": {
      "provenance": [],
      "authorship_tag": "ABX9TyOjYYpxYEVAd8CKw8FvU0Bb",
      "include_colab_link": true
    },
    "kernelspec": {
      "name": "python3",
      "display_name": "Python 3"
    },
    "language_info": {
      "name": "python"
    }
  },
  "cells": [
    {
      "cell_type": "markdown",
      "metadata": {
        "id": "view-in-github",
        "colab_type": "text"
      },
      "source": [
        "<a href=\"https://colab.research.google.com/github/stev3j/MachineLearning_Practice/blob/main/books_crolling_function.ipynb\" target=\"_parent\"><img src=\"https://colab.research.google.com/assets/colab-badge.svg\" alt=\"Open In Colab\"/></a>"
      ]
    },
    {
      "cell_type": "code",
      "execution_count": 26,
      "metadata": {
        "id": "-2SzYGJh_YsO"
      },
      "outputs": [],
      "source": [
        "import requests\n",
        "from bs4 import BeautifulSoup"
      ]
    },
    {
      "cell_type": "code",
      "source": [
        "\n",
        "def get_page_cnt(isbn):\n",
        "  url = 'http://www.yes24.com/Product/Search?domain=BOOK&query={}'\n",
        "  r = requests.get(url.format(isbn)) # url의 {} 안에 isbn을 집어넣음\n",
        "\n",
        "  soup = BeautifulSoup(r.text, 'html.parser') \n",
        "\n",
        "  prd_link = soup.find('a', attrs={'class':'gd_name'}) # a태그의 class가 gd_name인 것을 prd_link에 넣음\n",
        "\n",
        "  url = 'http://www.yes24.com' + prd_link['href']\n",
        "  r = requests.get(url)\n",
        "\n",
        "  soup = BeautifulSoup(r.text, 'html.parser')\n",
        "\n",
        "  prd_detail = soup.find('div', attrs={'id':'infoset_specific'}) # div태그의 id가 infoset_specific인 것을 prd_detail에 넣음\n",
        "\n",
        "  prd_tr_list = prd_detail.find_all('tr') # prd_detail에서 모든 tr태그를 prd_tr_list에 담음\n",
        "\n",
        "  for tr in prd_tr_list:\n",
        "    if tr.find('th').get_text() == '쪽수, 무게, 크기':\n",
        "      page_td = tr.find('td').get_text()\n",
        "      page_td = page_td.split()[0]\n",
        "      return page_td"
      ],
      "metadata": {
        "id": "rdJTxeJkHMJZ"
      },
      "execution_count": 31,
      "outputs": []
    },
    {
      "cell_type": "code",
      "source": [
        "ans = get_page_cnt(9791190090018)\n",
        "print(ans)"
      ],
      "metadata": {
        "colab": {
          "base_uri": "https://localhost:8080/"
        },
        "id": "jtxwXiv8_ojI",
        "outputId": "c5deabb6-adc1-44ef-94ed-1a5f5e3f9285"
      },
      "execution_count": 32,
      "outputs": [
        {
          "output_type": "stream",
          "name": "stdout",
          "text": [
            "330쪽\n"
          ]
        }
      ]
    },
    {
      "cell_type": "code",
      "source": [
        "def get_genre(isbn):\n",
        "  url = 'http://www.yes24.com/Product/Search?domain=BOOK&query={}'\n",
        "  r = requests.get(url.format(isbn)) # url의 {} 안에 isbn을 집어넣음\n",
        "\n",
        "  soup = BeautifulSoup(r.text, 'html.parser') \n",
        "\n",
        "  prd_link = soup.find('a', attrs={'class':'gd_name'}) # a태그의 class가 gd_name인 것을 prd_link에 넣음\n",
        "\n",
        "  url = 'http://www.yes24.com' + prd_link['href']\n",
        "  r = requests.get(url)\n",
        "\n",
        "  soup = BeautifulSoup(r.text, 'html.parser')\n",
        "\n",
        "  prd_detail = soup.find('div', attrs={'id':'infoset_goodsCate'}) # div태그의 id가 infoset_goodsCate인 것을 prd_detail에 넣음\n",
        "\n",
        "  prd_li_list = prd_detail.find_all('li') # prd_detail에서 모든 li 태그를 prd_li_list 에 담음\n",
        "\n",
        "  for li in prd_li_list:\n",
        "    a_list = li.find_all('a')\n",
        "    for a in a_list:\n",
        "      if a.get_text() == '한국 단편소설':\n",
        "        ans = a.get_text()\n",
        "        return ans"
      ],
      "metadata": {
        "id": "mFxoskLfCyCn"
      },
      "execution_count": 38,
      "outputs": []
    },
    {
      "cell_type": "code",
      "source": [
        "ans = get_genre(9791190090018)\n",
        "print(ans)"
      ],
      "metadata": {
        "colab": {
          "base_uri": "https://localhost:8080/"
        },
        "id": "phSiKBXgHk-R",
        "outputId": "37091688-11dd-4877-bab7-2ca3eb109066"
      },
      "execution_count": 39,
      "outputs": [
        {
          "output_type": "stream",
          "name": "stdout",
          "text": [
            "한국 단편소설\n"
          ]
        }
      ]
    },
    {
      "cell_type": "code",
      "source": [],
      "metadata": {
        "id": "4n_TCNRnHtdK"
      },
      "execution_count": null,
      "outputs": []
    }
  ]
}