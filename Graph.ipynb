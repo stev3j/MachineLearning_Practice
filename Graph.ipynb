{
  "nbformat": 4,
  "nbformat_minor": 0,
  "metadata": {
    "colab": {
      "provenance": [],
      "authorship_tag": "ABX9TyMTOn5ln8jyyxnISoPS9Qta",
      "include_colab_link": true
    },
    "kernelspec": {
      "name": "python3",
      "display_name": "Python 3"
    },
    "language_info": {
      "name": "python"
    }
  },
  "cells": [
    {
      "cell_type": "markdown",
      "metadata": {
        "id": "view-in-github",
        "colab_type": "text"
      },
      "source": [
        "<a href=\"https://colab.research.google.com/github/stev3j/MachineLearning_Practice/blob/main/Graph.ipynb\" target=\"_parent\"><img src=\"https://colab.research.google.com/assets/colab-badge.svg\" alt=\"Open In Colab\"/></a>"
      ]
    },
    {
      "cell_type": "code",
      "source": [
        "import pandas as pd\n",
        "import matplotlib.pyplot as plt"
      ],
      "metadata": {
        "id": "tMM6_LJ7zrzx"
      },
      "execution_count": 17,
      "outputs": []
    },
    {
      "cell_type": "code",
      "execution_count": 20,
      "metadata": {
        "colab": {
          "base_uri": "https://localhost:8080/",
          "height": 354
        },
        "id": "WPlDRjuYyJNm",
        "outputId": "64dc4eb0-f5d6-4074-a77b-4d24eaf11fe8"
      },
      "outputs": [
        {
          "output_type": "execute_result",
          "data": {
            "text/plain": [
              "   번호                                                도서명  \\\n",
              "0   1                                          북한산 역사 회복   \n",
              "1   2                         (매일매일 두뇌 트레이닝) 간단 종이접기 대백과   \n",
              "2   3  (Usborne)똥은 어디로 갈까요?:호기심 퐁퐁 플랩북 우리 아이의 첫 번째 질문과 답   \n",
              "3   4                   내 반려 동물은 곤충이야!:초등학생이 키워 본 곤충 이야기   \n",
              "4   5                                         질투 나서 속상해!   \n",
              "\n",
              "                              저자     출판사    발행년도           ISBN  세트 ISBN  \\\n",
              "0                         호사카 유지  봄이아트북스  2022.0  9791166154386      NaN   \n",
              "1             주부의벗사 편집부 저;김수연 옮김   아르고나인  2011.0  9788997227099      NaN   \n",
              "2    케이티 데이니스 지음;댄 테일러 그림;신인수 옮김     NaN  2021.0  9791190183871      NaN   \n",
              "3                         황우성 지음     NaN  2021.0  9791164500376      NaN   \n",
              "4  기슬렌 뒬리에 글;베랑제르 들라포르트 그림;정순 옮김    나무말미  2021.0  9791191827002      NaN   \n",
              "\n",
              "   부가기호    권  주제분류번호  도서권수  대출건수        등록일자  Unnamed: 13  \n",
              "0   NaN  NaN  911.60     1     1  2022-06-10          NaN  \n",
              "1   NaN  NaN  634.90     1     0  2022-03-30          NaN  \n",
              "2   7.0  NaN  491.44     1     5  2021-10-26          NaN  \n",
              "3   7.0  NaN  495.20     1     2  2021-10-26          NaN  \n",
              "4   7.0    4  863.00     1     5  2021-10-26          NaN  "
            ],
            "text/html": [
              "\n",
              "  <div id=\"df-9385584d-8f8f-4e23-8e1f-064187b42e2b\">\n",
              "    <div class=\"colab-df-container\">\n",
              "      <div>\n",
              "<style scoped>\n",
              "    .dataframe tbody tr th:only-of-type {\n",
              "        vertical-align: middle;\n",
              "    }\n",
              "\n",
              "    .dataframe tbody tr th {\n",
              "        vertical-align: top;\n",
              "    }\n",
              "\n",
              "    .dataframe thead th {\n",
              "        text-align: right;\n",
              "    }\n",
              "</style>\n",
              "<table border=\"1\" class=\"dataframe\">\n",
              "  <thead>\n",
              "    <tr style=\"text-align: right;\">\n",
              "      <th></th>\n",
              "      <th>번호</th>\n",
              "      <th>도서명</th>\n",
              "      <th>저자</th>\n",
              "      <th>출판사</th>\n",
              "      <th>발행년도</th>\n",
              "      <th>ISBN</th>\n",
              "      <th>세트 ISBN</th>\n",
              "      <th>부가기호</th>\n",
              "      <th>권</th>\n",
              "      <th>주제분류번호</th>\n",
              "      <th>도서권수</th>\n",
              "      <th>대출건수</th>\n",
              "      <th>등록일자</th>\n",
              "      <th>Unnamed: 13</th>\n",
              "    </tr>\n",
              "  </thead>\n",
              "  <tbody>\n",
              "    <tr>\n",
              "      <th>0</th>\n",
              "      <td>1</td>\n",
              "      <td>북한산 역사 회복</td>\n",
              "      <td>호사카 유지</td>\n",
              "      <td>봄이아트북스</td>\n",
              "      <td>2022.0</td>\n",
              "      <td>9791166154386</td>\n",
              "      <td>NaN</td>\n",
              "      <td>NaN</td>\n",
              "      <td>NaN</td>\n",
              "      <td>911.60</td>\n",
              "      <td>1</td>\n",
              "      <td>1</td>\n",
              "      <td>2022-06-10</td>\n",
              "      <td>NaN</td>\n",
              "    </tr>\n",
              "    <tr>\n",
              "      <th>1</th>\n",
              "      <td>2</td>\n",
              "      <td>(매일매일 두뇌 트레이닝) 간단 종이접기 대백과</td>\n",
              "      <td>주부의벗사 편집부 저;김수연 옮김</td>\n",
              "      <td>아르고나인</td>\n",
              "      <td>2011.0</td>\n",
              "      <td>9788997227099</td>\n",
              "      <td>NaN</td>\n",
              "      <td>NaN</td>\n",
              "      <td>NaN</td>\n",
              "      <td>634.90</td>\n",
              "      <td>1</td>\n",
              "      <td>0</td>\n",
              "      <td>2022-03-30</td>\n",
              "      <td>NaN</td>\n",
              "    </tr>\n",
              "    <tr>\n",
              "      <th>2</th>\n",
              "      <td>3</td>\n",
              "      <td>(Usborne)똥은 어디로 갈까요?:호기심 퐁퐁 플랩북 우리 아이의 첫 번째 질문과 답</td>\n",
              "      <td>케이티 데이니스 지음;댄 테일러 그림;신인수 옮김</td>\n",
              "      <td>NaN</td>\n",
              "      <td>2021.0</td>\n",
              "      <td>9791190183871</td>\n",
              "      <td>NaN</td>\n",
              "      <td>7.0</td>\n",
              "      <td>NaN</td>\n",
              "      <td>491.44</td>\n",
              "      <td>1</td>\n",
              "      <td>5</td>\n",
              "      <td>2021-10-26</td>\n",
              "      <td>NaN</td>\n",
              "    </tr>\n",
              "    <tr>\n",
              "      <th>3</th>\n",
              "      <td>4</td>\n",
              "      <td>내 반려 동물은 곤충이야!:초등학생이 키워 본 곤충 이야기</td>\n",
              "      <td>황우성 지음</td>\n",
              "      <td>NaN</td>\n",
              "      <td>2021.0</td>\n",
              "      <td>9791164500376</td>\n",
              "      <td>NaN</td>\n",
              "      <td>7.0</td>\n",
              "      <td>NaN</td>\n",
              "      <td>495.20</td>\n",
              "      <td>1</td>\n",
              "      <td>2</td>\n",
              "      <td>2021-10-26</td>\n",
              "      <td>NaN</td>\n",
              "    </tr>\n",
              "    <tr>\n",
              "      <th>4</th>\n",
              "      <td>5</td>\n",
              "      <td>질투 나서 속상해!</td>\n",
              "      <td>기슬렌 뒬리에 글;베랑제르 들라포르트 그림;정순 옮김</td>\n",
              "      <td>나무말미</td>\n",
              "      <td>2021.0</td>\n",
              "      <td>9791191827002</td>\n",
              "      <td>NaN</td>\n",
              "      <td>7.0</td>\n",
              "      <td>4</td>\n",
              "      <td>863.00</td>\n",
              "      <td>1</td>\n",
              "      <td>5</td>\n",
              "      <td>2021-10-26</td>\n",
              "      <td>NaN</td>\n",
              "    </tr>\n",
              "  </tbody>\n",
              "</table>\n",
              "</div>\n",
              "      <button class=\"colab-df-convert\" onclick=\"convertToInteractive('df-9385584d-8f8f-4e23-8e1f-064187b42e2b')\"\n",
              "              title=\"Convert this dataframe to an interactive table.\"\n",
              "              style=\"display:none;\">\n",
              "        \n",
              "  <svg xmlns=\"http://www.w3.org/2000/svg\" height=\"24px\"viewBox=\"0 0 24 24\"\n",
              "       width=\"24px\">\n",
              "    <path d=\"M0 0h24v24H0V0z\" fill=\"none\"/>\n",
              "    <path d=\"M18.56 5.44l.94 2.06.94-2.06 2.06-.94-2.06-.94-.94-2.06-.94 2.06-2.06.94zm-11 1L8.5 8.5l.94-2.06 2.06-.94-2.06-.94L8.5 2.5l-.94 2.06-2.06.94zm10 10l.94 2.06.94-2.06 2.06-.94-2.06-.94-.94-2.06-.94 2.06-2.06.94z\"/><path d=\"M17.41 7.96l-1.37-1.37c-.4-.4-.92-.59-1.43-.59-.52 0-1.04.2-1.43.59L10.3 9.45l-7.72 7.72c-.78.78-.78 2.05 0 2.83L4 21.41c.39.39.9.59 1.41.59.51 0 1.02-.2 1.41-.59l7.78-7.78 2.81-2.81c.8-.78.8-2.07 0-2.86zM5.41 20L4 18.59l7.72-7.72 1.47 1.35L5.41 20z\"/>\n",
              "  </svg>\n",
              "      </button>\n",
              "      \n",
              "  <style>\n",
              "    .colab-df-container {\n",
              "      display:flex;\n",
              "      flex-wrap:wrap;\n",
              "      gap: 12px;\n",
              "    }\n",
              "\n",
              "    .colab-df-convert {\n",
              "      background-color: #E8F0FE;\n",
              "      border: none;\n",
              "      border-radius: 50%;\n",
              "      cursor: pointer;\n",
              "      display: none;\n",
              "      fill: #1967D2;\n",
              "      height: 32px;\n",
              "      padding: 0 0 0 0;\n",
              "      width: 32px;\n",
              "    }\n",
              "\n",
              "    .colab-df-convert:hover {\n",
              "      background-color: #E2EBFA;\n",
              "      box-shadow: 0px 1px 2px rgba(60, 64, 67, 0.3), 0px 1px 3px 1px rgba(60, 64, 67, 0.15);\n",
              "      fill: #174EA6;\n",
              "    }\n",
              "\n",
              "    [theme=dark] .colab-df-convert {\n",
              "      background-color: #3B4455;\n",
              "      fill: #D2E3FC;\n",
              "    }\n",
              "\n",
              "    [theme=dark] .colab-df-convert:hover {\n",
              "      background-color: #434B5C;\n",
              "      box-shadow: 0px 1px 3px 1px rgba(0, 0, 0, 0.15);\n",
              "      filter: drop-shadow(0px 1px 2px rgba(0, 0, 0, 0.3));\n",
              "      fill: #FFFFFF;\n",
              "    }\n",
              "  </style>\n",
              "\n",
              "      <script>\n",
              "        const buttonEl =\n",
              "          document.querySelector('#df-9385584d-8f8f-4e23-8e1f-064187b42e2b button.colab-df-convert');\n",
              "        buttonEl.style.display =\n",
              "          google.colab.kernel.accessAllowed ? 'block' : 'none';\n",
              "\n",
              "        async function convertToInteractive(key) {\n",
              "          const element = document.querySelector('#df-9385584d-8f8f-4e23-8e1f-064187b42e2b');\n",
              "          const dataTable =\n",
              "            await google.colab.kernel.invokeFunction('convertToInteractive',\n",
              "                                                     [key], {});\n",
              "          if (!dataTable) return;\n",
              "\n",
              "          const docLinkHtml = 'Like what you see? Visit the ' +\n",
              "            '<a target=\"_blank\" href=https://colab.research.google.com/notebooks/data_table.ipynb>data table notebook</a>'\n",
              "            + ' to learn more about interactive tables.';\n",
              "          element.innerHTML = '';\n",
              "          dataTable['output_type'] = 'display_data';\n",
              "          await google.colab.output.renderOutput(dataTable, element);\n",
              "          const docLink = document.createElement('div');\n",
              "          docLink.innerHTML = docLinkHtml;\n",
              "          element.appendChild(docLink);\n",
              "        }\n",
              "      </script>\n",
              "    </div>\n",
              "  </div>\n",
              "  "
            ]
          },
          "metadata": {},
          "execution_count": 20
        }
      ],
      "source": [
        "df = pd.read_csv('가슴따뜻한작은도서관 장서 대출목록 (2023년 03월).csv', encoding='cp949', low_memory=False)\n",
        "df.head() "
      ]
    },
    {
      "cell_type": "code",
      "source": [
        "plt.hist(df['주제분류번호'], bins=100) # 10 -> \n",
        "plt.xticks([0, 100, 200, 300, 400, 500, 600, 700, 800, 900, 1000])\n",
        "plt.show()"
      ],
      "metadata": {
        "colab": {
          "base_uri": "https://localhost:8080/",
          "height": 430
        },
        "id": "n7qO5fwbyMaV",
        "outputId": "3dcfe820-4206-4c82-e533-8c56f09b4c85"
      },
      "execution_count": 33,
      "outputs": [
        {
          "output_type": "display_data",
          "data": {
            "text/plain": [
              "<Figure size 640x480 with 1 Axes>"
            ],
            "image/png": "[encoded data removed]"
          },
          "metadata": {}
        }
      ]
    },
    {
      "cell_type": "code",
      "source": [
        "# 1순위는 한국 문학, 2순위는 영미 문학으로 "
      ],
      "metadata": {
        "colab": {
          "base_uri": "https://localhost:8080/"
        },
        "id": "JfxytNwV0NFx",
        "outputId": "2d40ccab-0c78-4375-d701-466f622e3940"
      },
      "execution_count": 23,
      "outputs": [
        {
          "output_type": "execute_result",
          "data": {
            "text/plain": [
              "0       2022.0\n",
              "1       2011.0\n",
              "2       2021.0\n",
              "3       2021.0\n",
              "4       2021.0\n",
              "         ...  \n",
              "5123    2010.0\n",
              "5124    2010.0\n",
              "5125    2008.0\n",
              "5126    2007.0\n",
              "5127    2009.0\n",
              "Name: 발행년도, Length: 5128, dtype: float64"
            ]
          },
          "metadata": {},
          "execution_count": 23
        }
      ]
    },
    {
      "cell_type": "code",
      "source": [],
      "metadata": {
        "id": "t6ppZVXw1V58"
      },
      "execution_count": null,
      "outputs": []
    }
  ]
}